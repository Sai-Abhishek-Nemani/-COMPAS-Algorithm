{
  "nbformat": 4,
  "nbformat_minor": 0,
  "metadata": {
    "colab": {
      "provenance": []
    },
    "kernelspec": {
      "name": "python3",
      "display_name": "Python 3"
    },
    "language_info": {
      "name": "python"
    }
  },
  "cells": [
    {
      "cell_type": "code",
      "execution_count": 183,
      "metadata": {
        "id": "hZwwhRLc8KnC"
      },
      "outputs": [],
      "source": [
        "import pandas as pd\n",
        "import numpy as np\n",
        "import matplotlib.pyplot as plt\n",
        "import seaborn as sns\n",
        "from sklearn.model_selection import train_test_split\n",
        "from sklearn.tree import DecisionTreeClassifier\n",
        "from sklearn.metrics import accuracy_score, classification_report, confusion_matrix\n",
        "pd.set_option('display.max_columns', None)\n",
        "import warnings\n",
        "warnings.filterwarnings(action='ignore')"
      ]
    },
    {
      "cell_type": "code",
      "source": [
        "data2 = pd.read_csv(\"/content/drive/MyDrive/Data Mining Project/cox-violent-parsed.csv\")"
      ],
      "metadata": {
        "id": "m4JVcwCKlgZ-"
      },
      "execution_count": 184,
      "outputs": []
    },
    {
      "cell_type": "markdown",
      "source": [
        "Data Set 2"
      ],
      "metadata": {
        "id": "iQK32w4SDvNW"
      }
    },
    {
      "cell_type": "code",
      "source": [
        "data2.head()"
      ],
      "metadata": {
        "colab": {
          "base_uri": "https://localhost:8080/",
          "height": 347
        },
        "id": "ph9EGnHQDVRP",
        "outputId": "cfcaecc3-e72c-448a-cbff-5f8e1a497839"
      },
      "execution_count": 185,
      "outputs": [
        {
          "output_type": "execute_result",
          "data": {
            "text/plain": [
              "    id              name    first       last compas_screening_date   sex  \\\n",
              "0  1.0  miguel hernandez   miguel  hernandez            14/08/2013  Male   \n",
              "1  2.0  miguel hernandez   miguel  hernandez            14/08/2013  Male   \n",
              "2  3.0      michael ryan  michael       ryan            31/12/2014  Male   \n",
              "3  4.0       kevon dixon    kevon      dixon            27/01/2013  Male   \n",
              "4  5.0          ed philo       ed      philo            14/04/2013  Male   \n",
              "\n",
              "          dob  age          age_cat              race  juv_fel_count  \\\n",
              "0  18/04/1947   69  Greater than 45             Other              0   \n",
              "1  18/04/1947   69  Greater than 45             Other              0   \n",
              "2  06/02/1985   31          25 - 45         Caucasian              0   \n",
              "3  22/01/1982   34          25 - 45  African-American              0   \n",
              "4  14/05/1991   24     Less than 25  African-American              0   \n",
              "\n",
              "   decile_score  juv_misd_count  juv_other_count  priors_count  \\\n",
              "0             1               0                0             0   \n",
              "1             1               0                0             0   \n",
              "2             5               0                0             0   \n",
              "3             3               0                0             0   \n",
              "4             4               0                1             4   \n",
              "\n",
              "   days_b_screening_arrest        c_jail_in       c_jail_out  c_case_number  \\\n",
              "0                     -1.0  13/08/2013 6:03  14/08/2013 5:41  13011352CF10A   \n",
              "1                     -1.0  13/08/2013 6:03  14/08/2013 5:41  13011352CF10A   \n",
              "2                      NaN              NaN              NaN            NaN   \n",
              "3                     -1.0  26/01/2013 3:45  05/02/2013 5:36  13001275CF10A   \n",
              "4                     -1.0  13/04/2013 4:58  14/04/2013 7:02  13005330CF10A   \n",
              "\n",
              "  c_offense_date c_arrest_date  c_days_from_compas c_charge_degree  \\\n",
              "0     13/08/2013           NaN                 1.0            (F3)   \n",
              "1     13/08/2013           NaN                 1.0            (F3)   \n",
              "2            NaN           NaN                 NaN             NaN   \n",
              "3     26/01/2013           NaN                 1.0            (F3)   \n",
              "4     13/04/2013           NaN                 1.0            (F3)   \n",
              "\n",
              "                    c_charge_desc  is_recid  r_case_number r_charge_degree  \\\n",
              "0    Aggravated Assault w/Firearm         0            NaN             NaN   \n",
              "1    Aggravated Assault w/Firearm         0            NaN             NaN   \n",
              "2                             NaN        -1            NaN             NaN   \n",
              "3  Felony Battery w/Prior Convict         1  13009779CF10A            (F3)   \n",
              "4           Possession of Cocaine         1  13011511MM10A            (M1)   \n",
              "\n",
              "   r_days_from_arrest r_offense_date                r_charge_desc   r_jail_in  \\\n",
              "0                 NaN            NaN                          NaN         NaN   \n",
              "1                 NaN            NaN                          NaN         NaN   \n",
              "2                 NaN            NaN                          NaN         NaN   \n",
              "3                 NaN     05/07/2013  Felony Battery (Dom Strang)         NaN   \n",
              "4                 0.0     16/06/2013  Driving Under The Influence  16/06/2013   \n",
              "\n",
              "   r_jail_out  violent_recid  is_violent_recid vr_case_number  \\\n",
              "0         NaN            NaN                 0            NaN   \n",
              "1         NaN            NaN                 0            NaN   \n",
              "2         NaN            NaN                 0            NaN   \n",
              "3         NaN            NaN                 1  13009779CF10A   \n",
              "4  16/06/2013            NaN                 0            NaN   \n",
              "\n",
              "  vr_charge_degree vr_offense_date               vr_charge_desc  \\\n",
              "0              NaN             NaN                          NaN   \n",
              "1              NaN             NaN                          NaN   \n",
              "2              NaN             NaN                          NaN   \n",
              "3             (F3)      05/07/2013  Felony Battery (Dom Strang)   \n",
              "4              NaN             NaN                          NaN   \n",
              "\n",
              "   type_of_assessment  decile_score.1 score_text screening_date  \\\n",
              "0  Risk of Recidivism               1        Low     14/08/2013   \n",
              "1  Risk of Recidivism               1        Low     14/08/2013   \n",
              "2  Risk of Recidivism               5     Medium     31/12/2014   \n",
              "3  Risk of Recidivism               3        Low     27/01/2013   \n",
              "4  Risk of Recidivism               4        Low     14/04/2013   \n",
              "\n",
              "  v_type_of_assessment  v_decile_score v_score_text v_screening_date  \\\n",
              "0     Risk of Violence               1          Low       14/08/2013   \n",
              "1     Risk of Violence               1          Low       14/08/2013   \n",
              "2     Risk of Violence               2          Low       31/12/2014   \n",
              "3     Risk of Violence               1          Low       27/01/2013   \n",
              "4     Risk of Violence               3          Low       14/04/2013   \n",
              "\n",
              "   in_custody out_custody  priors_count.1  start  end  event  \n",
              "0  07/07/2014  14/07/2014               0      0  327      0  \n",
              "1  07/07/2014  14/07/2014               0    334  961      0  \n",
              "2  30/12/2014  03/01/2015               0      3  457      0  \n",
              "3  26/01/2013  05/02/2013               0      9  159      1  \n",
              "4  16/06/2013  16/06/2013               4      0   63      0  "
            ],
            "text/html": [
              "\n",
              "  <div id=\"df-0986c426-7ed0-4217-be09-1267339e66a4\" class=\"colab-df-container\">\n",
              "    <div>\n",
              "<style scoped>\n",
              "    .dataframe tbody tr th:only-of-type {\n",
              "        vertical-align: middle;\n",
              "    }\n",
              "\n",
              "    .dataframe tbody tr th {\n",
              "        vertical-align: top;\n",
              "    }\n",
              "\n",
              "    .dataframe thead th {\n",
              "        text-align: right;\n",
              "    }\n",
              "</style>\n",
              "<table border=\"1\" class=\"dataframe\">\n",
              "  <thead>\n",
              "    <tr style=\"text-align: right;\">\n",
              "      <th></th>\n",
              "      <th>id</th>\n",
              "      <th>name</th>\n",
              "      <th>first</th>\n",
              "      <th>last</th>\n",
              "      <th>compas_screening_date</th>\n",
              "      <th>sex</th>\n",
              "      <th>dob</th>\n",
              "      <th>age</th>\n",
              "      <th>age_cat</th>\n",
              "      <th>race</th>\n",
              "      <th>juv_fel_count</th>\n",
              "      <th>decile_score</th>\n",
              "      <th>juv_misd_count</th>\n",
              "      <th>juv_other_count</th>\n",
              "      <th>priors_count</th>\n",
              "      <th>days_b_screening_arrest</th>\n",
              "      <th>c_jail_in</th>\n",
              "      <th>c_jail_out</th>\n",
              "      <th>c_case_number</th>\n",
              "      <th>c_offense_date</th>\n",
              "      <th>c_arrest_date</th>\n",
              "      <th>c_days_from_compas</th>\n",
              "      <th>c_charge_degree</th>\n",
              "      <th>c_charge_desc</th>\n",
              "      <th>is_recid</th>\n",
              "      <th>r_case_number</th>\n",
              "      <th>r_charge_degree</th>\n",
              "      <th>r_days_from_arrest</th>\n",
              "      <th>r_offense_date</th>\n",
              "      <th>r_charge_desc</th>\n",
              "      <th>r_jail_in</th>\n",
              "      <th>r_jail_out</th>\n",
              "      <th>violent_recid</th>\n",
              "      <th>is_violent_recid</th>\n",
              "      <th>vr_case_number</th>\n",
              "      <th>vr_charge_degree</th>\n",
              "      <th>vr_offense_date</th>\n",
              "      <th>vr_charge_desc</th>\n",
              "      <th>type_of_assessment</th>\n",
              "      <th>decile_score.1</th>\n",
              "      <th>score_text</th>\n",
              "      <th>screening_date</th>\n",
              "      <th>v_type_of_assessment</th>\n",
              "      <th>v_decile_score</th>\n",
              "      <th>v_score_text</th>\n",
              "      <th>v_screening_date</th>\n",
              "      <th>in_custody</th>\n",
              "      <th>out_custody</th>\n",
              "      <th>priors_count.1</th>\n",
              "      <th>start</th>\n",
              "      <th>end</th>\n",
              "      <th>event</th>\n",
              "    </tr>\n",
              "  </thead>\n",
              "  <tbody>\n",
              "    <tr>\n",
              "      <th>0</th>\n",
              "      <td>1.0</td>\n",
              "      <td>miguel hernandez</td>\n",
              "      <td>miguel</td>\n",
              "      <td>hernandez</td>\n",
              "      <td>14/08/2013</td>\n",
              "      <td>Male</td>\n",
              "      <td>18/04/1947</td>\n",
              "      <td>69</td>\n",
              "      <td>Greater than 45</td>\n",
              "      <td>Other</td>\n",
              "      <td>0</td>\n",
              "      <td>1</td>\n",
              "      <td>0</td>\n",
              "      <td>0</td>\n",
              "      <td>0</td>\n",
              "      <td>-1.0</td>\n",
              "      <td>13/08/2013 6:03</td>\n",
              "      <td>14/08/2013 5:41</td>\n",
              "      <td>13011352CF10A</td>\n",
              "      <td>13/08/2013</td>\n",
              "      <td>NaN</td>\n",
              "      <td>1.0</td>\n",
              "      <td>(F3)</td>\n",
              "      <td>Aggravated Assault w/Firearm</td>\n",
              "      <td>0</td>\n",
              "      <td>NaN</td>\n",
              "      <td>NaN</td>\n",
              "      <td>NaN</td>\n",
              "      <td>NaN</td>\n",
              "      <td>NaN</td>\n",
              "      <td>NaN</td>\n",
              "      <td>NaN</td>\n",
              "      <td>NaN</td>\n",
              "      <td>0</td>\n",
              "      <td>NaN</td>\n",
              "      <td>NaN</td>\n",
              "      <td>NaN</td>\n",
              "      <td>NaN</td>\n",
              "      <td>Risk of Recidivism</td>\n",
              "      <td>1</td>\n",
              "      <td>Low</td>\n",
              "      <td>14/08/2013</td>\n",
              "      <td>Risk of Violence</td>\n",
              "      <td>1</td>\n",
              "      <td>Low</td>\n",
              "      <td>14/08/2013</td>\n",
              "      <td>07/07/2014</td>\n",
              "      <td>14/07/2014</td>\n",
              "      <td>0</td>\n",
              "      <td>0</td>\n",
              "      <td>327</td>\n",
              "      <td>0</td>\n",
              "    </tr>\n",
              "    <tr>\n",
              "      <th>1</th>\n",
              "      <td>2.0</td>\n",
              "      <td>miguel hernandez</td>\n",
              "      <td>miguel</td>\n",
              "      <td>hernandez</td>\n",
              "      <td>14/08/2013</td>\n",
              "      <td>Male</td>\n",
              "      <td>18/04/1947</td>\n",
              "      <td>69</td>\n",
              "      <td>Greater than 45</td>\n",
              "      <td>Other</td>\n",
              "      <td>0</td>\n",
              "      <td>1</td>\n",
              "      <td>0</td>\n",
              "      <td>0</td>\n",
              "      <td>0</td>\n",
              "      <td>-1.0</td>\n",
              "      <td>13/08/2013 6:03</td>\n",
              "      <td>14/08/2013 5:41</td>\n",
              "      <td>13011352CF10A</td>\n",
              "      <td>13/08/2013</td>\n",
              "      <td>NaN</td>\n",
              "      <td>1.0</td>\n",
              "      <td>(F3)</td>\n",
              "      <td>Aggravated Assault w/Firearm</td>\n",
              "      <td>0</td>\n",
              "      <td>NaN</td>\n",
              "      <td>NaN</td>\n",
              "      <td>NaN</td>\n",
              "      <td>NaN</td>\n",
              "      <td>NaN</td>\n",
              "      <td>NaN</td>\n",
              "      <td>NaN</td>\n",
              "      <td>NaN</td>\n",
              "      <td>0</td>\n",
              "      <td>NaN</td>\n",
              "      <td>NaN</td>\n",
              "      <td>NaN</td>\n",
              "      <td>NaN</td>\n",
              "      <td>Risk of Recidivism</td>\n",
              "      <td>1</td>\n",
              "      <td>Low</td>\n",
              "      <td>14/08/2013</td>\n",
              "      <td>Risk of Violence</td>\n",
              "      <td>1</td>\n",
              "      <td>Low</td>\n",
              "      <td>14/08/2013</td>\n",
              "      <td>07/07/2014</td>\n",
              "      <td>14/07/2014</td>\n",
              "      <td>0</td>\n",
              "      <td>334</td>\n",
              "      <td>961</td>\n",
              "      <td>0</td>\n",
              "    </tr>\n",
              "    <tr>\n",
              "      <th>2</th>\n",
              "      <td>3.0</td>\n",
              "      <td>michael ryan</td>\n",
              "      <td>michael</td>\n",
              "      <td>ryan</td>\n",
              "      <td>31/12/2014</td>\n",
              "      <td>Male</td>\n",
              "      <td>06/02/1985</td>\n",
              "      <td>31</td>\n",
              "      <td>25 - 45</td>\n",
              "      <td>Caucasian</td>\n",
              "      <td>0</td>\n",
              "      <td>5</td>\n",
              "      <td>0</td>\n",
              "      <td>0</td>\n",
              "      <td>0</td>\n",
              "      <td>NaN</td>\n",
              "      <td>NaN</td>\n",
              "      <td>NaN</td>\n",
              "      <td>NaN</td>\n",
              "      <td>NaN</td>\n",
              "      <td>NaN</td>\n",
              "      <td>NaN</td>\n",
              "      <td>NaN</td>\n",
              "      <td>NaN</td>\n",
              "      <td>-1</td>\n",
              "      <td>NaN</td>\n",
              "      <td>NaN</td>\n",
              "      <td>NaN</td>\n",
              "      <td>NaN</td>\n",
              "      <td>NaN</td>\n",
              "      <td>NaN</td>\n",
              "      <td>NaN</td>\n",
              "      <td>NaN</td>\n",
              "      <td>0</td>\n",
              "      <td>NaN</td>\n",
              "      <td>NaN</td>\n",
              "      <td>NaN</td>\n",
              "      <td>NaN</td>\n",
              "      <td>Risk of Recidivism</td>\n",
              "      <td>5</td>\n",
              "      <td>Medium</td>\n",
              "      <td>31/12/2014</td>\n",
              "      <td>Risk of Violence</td>\n",
              "      <td>2</td>\n",
              "      <td>Low</td>\n",
              "      <td>31/12/2014</td>\n",
              "      <td>30/12/2014</td>\n",
              "      <td>03/01/2015</td>\n",
              "      <td>0</td>\n",
              "      <td>3</td>\n",
              "      <td>457</td>\n",
              "      <td>0</td>\n",
              "    </tr>\n",
              "    <tr>\n",
              "      <th>3</th>\n",
              "      <td>4.0</td>\n",
              "      <td>kevon dixon</td>\n",
              "      <td>kevon</td>\n",
              "      <td>dixon</td>\n",
              "      <td>27/01/2013</td>\n",
              "      <td>Male</td>\n",
              "      <td>22/01/1982</td>\n",
              "      <td>34</td>\n",
              "      <td>25 - 45</td>\n",
              "      <td>African-American</td>\n",
              "      <td>0</td>\n",
              "      <td>3</td>\n",
              "      <td>0</td>\n",
              "      <td>0</td>\n",
              "      <td>0</td>\n",
              "      <td>-1.0</td>\n",
              "      <td>26/01/2013 3:45</td>\n",
              "      <td>05/02/2013 5:36</td>\n",
              "      <td>13001275CF10A</td>\n",
              "      <td>26/01/2013</td>\n",
              "      <td>NaN</td>\n",
              "      <td>1.0</td>\n",
              "      <td>(F3)</td>\n",
              "      <td>Felony Battery w/Prior Convict</td>\n",
              "      <td>1</td>\n",
              "      <td>13009779CF10A</td>\n",
              "      <td>(F3)</td>\n",
              "      <td>NaN</td>\n",
              "      <td>05/07/2013</td>\n",
              "      <td>Felony Battery (Dom Strang)</td>\n",
              "      <td>NaN</td>\n",
              "      <td>NaN</td>\n",
              "      <td>NaN</td>\n",
              "      <td>1</td>\n",
              "      <td>13009779CF10A</td>\n",
              "      <td>(F3)</td>\n",
              "      <td>05/07/2013</td>\n",
              "      <td>Felony Battery (Dom Strang)</td>\n",
              "      <td>Risk of Recidivism</td>\n",
              "      <td>3</td>\n",
              "      <td>Low</td>\n",
              "      <td>27/01/2013</td>\n",
              "      <td>Risk of Violence</td>\n",
              "      <td>1</td>\n",
              "      <td>Low</td>\n",
              "      <td>27/01/2013</td>\n",
              "      <td>26/01/2013</td>\n",
              "      <td>05/02/2013</td>\n",
              "      <td>0</td>\n",
              "      <td>9</td>\n",
              "      <td>159</td>\n",
              "      <td>1</td>\n",
              "    </tr>\n",
              "    <tr>\n",
              "      <th>4</th>\n",
              "      <td>5.0</td>\n",
              "      <td>ed philo</td>\n",
              "      <td>ed</td>\n",
              "      <td>philo</td>\n",
              "      <td>14/04/2013</td>\n",
              "      <td>Male</td>\n",
              "      <td>14/05/1991</td>\n",
              "      <td>24</td>\n",
              "      <td>Less than 25</td>\n",
              "      <td>African-American</td>\n",
              "      <td>0</td>\n",
              "      <td>4</td>\n",
              "      <td>0</td>\n",
              "      <td>1</td>\n",
              "      <td>4</td>\n",
              "      <td>-1.0</td>\n",
              "      <td>13/04/2013 4:58</td>\n",
              "      <td>14/04/2013 7:02</td>\n",
              "      <td>13005330CF10A</td>\n",
              "      <td>13/04/2013</td>\n",
              "      <td>NaN</td>\n",
              "      <td>1.0</td>\n",
              "      <td>(F3)</td>\n",
              "      <td>Possession of Cocaine</td>\n",
              "      <td>1</td>\n",
              "      <td>13011511MM10A</td>\n",
              "      <td>(M1)</td>\n",
              "      <td>0.0</td>\n",
              "      <td>16/06/2013</td>\n",
              "      <td>Driving Under The Influence</td>\n",
              "      <td>16/06/2013</td>\n",
              "      <td>16/06/2013</td>\n",
              "      <td>NaN</td>\n",
              "      <td>0</td>\n",
              "      <td>NaN</td>\n",
              "      <td>NaN</td>\n",
              "      <td>NaN</td>\n",
              "      <td>NaN</td>\n",
              "      <td>Risk of Recidivism</td>\n",
              "      <td>4</td>\n",
              "      <td>Low</td>\n",
              "      <td>14/04/2013</td>\n",
              "      <td>Risk of Violence</td>\n",
              "      <td>3</td>\n",
              "      <td>Low</td>\n",
              "      <td>14/04/2013</td>\n",
              "      <td>16/06/2013</td>\n",
              "      <td>16/06/2013</td>\n",
              "      <td>4</td>\n",
              "      <td>0</td>\n",
              "      <td>63</td>\n",
              "      <td>0</td>\n",
              "    </tr>\n",
              "  </tbody>\n",
              "</table>\n",
              "</div>\n",
              "    <div class=\"colab-df-buttons\">\n",
              "\n",
              "  <div class=\"colab-df-container\">\n",
              "    <button class=\"colab-df-convert\" onclick=\"convertToInteractive('df-0986c426-7ed0-4217-be09-1267339e66a4')\"\n",
              "            title=\"Convert this dataframe to an interactive table.\"\n",
              "            style=\"display:none;\">\n",
              "\n",
              "  <svg xmlns=\"http://www.w3.org/2000/svg\" height=\"24px\" viewBox=\"0 -960 960 960\">\n",
              "    <path d=\"M120-120v-720h720v720H120Zm60-500h600v-160H180v160Zm220 220h160v-160H400v160Zm0 220h160v-160H400v160ZM180-400h160v-160H180v160Zm440 0h160v-160H620v160ZM180-180h160v-160H180v160Zm440 0h160v-160H620v160Z\"/>\n",
              "  </svg>\n",
              "    </button>\n",
              "\n",
              "  <style>\n",
              "    .colab-df-container {\n",
              "      display:flex;\n",
              "      gap: 12px;\n",
              "    }\n",
              "\n",
              "    .colab-df-convert {\n",
              "      background-color: #E8F0FE;\n",
              "      border: none;\n",
              "      border-radius: 50%;\n",
              "      cursor: pointer;\n",
              "      display: none;\n",
              "      fill: #1967D2;\n",
              "      height: 32px;\n",
              "      padding: 0 0 0 0;\n",
              "      width: 32px;\n",
              "    }\n",
              "\n",
              "    .colab-df-convert:hover {\n",
              "      background-color: #E2EBFA;\n",
              "      box-shadow: 0px 1px 2px rgba(60, 64, 67, 0.3), 0px 1px 3px 1px rgba(60, 64, 67, 0.15);\n",
              "      fill: #174EA6;\n",
              "    }\n",
              "\n",
              "    .colab-df-buttons div {\n",
              "      margin-bottom: 4px;\n",
              "    }\n",
              "\n",
              "    [theme=dark] .colab-df-convert {\n",
              "      background-color: #3B4455;\n",
              "      fill: #D2E3FC;\n",
              "    }\n",
              "\n",
              "    [theme=dark] .colab-df-convert:hover {\n",
              "      background-color: #434B5C;\n",
              "      box-shadow: 0px 1px 3px 1px rgba(0, 0, 0, 0.15);\n",
              "      filter: drop-shadow(0px 1px 2px rgba(0, 0, 0, 0.3));\n",
              "      fill: #FFFFFF;\n",
              "    }\n",
              "  </style>\n",
              "\n",
              "    <script>\n",
              "      const buttonEl =\n",
              "        document.querySelector('#df-0986c426-7ed0-4217-be09-1267339e66a4 button.colab-df-convert');\n",
              "      buttonEl.style.display =\n",
              "        google.colab.kernel.accessAllowed ? 'block' : 'none';\n",
              "\n",
              "      async function convertToInteractive(key) {\n",
              "        const element = document.querySelector('#df-0986c426-7ed0-4217-be09-1267339e66a4');\n",
              "        const dataTable =\n",
              "          await google.colab.kernel.invokeFunction('convertToInteractive',\n",
              "                                                    [key], {});\n",
              "        if (!dataTable) return;\n",
              "\n",
              "        const docLinkHtml = 'Like what you see? Visit the ' +\n",
              "          '<a target=\"_blank\" href=https://colab.research.google.com/notebooks/data_table.ipynb>data table notebook</a>'\n",
              "          + ' to learn more about interactive tables.';\n",
              "        element.innerHTML = '';\n",
              "        dataTable['output_type'] = 'display_data';\n",
              "        await google.colab.output.renderOutput(dataTable, element);\n",
              "        const docLink = document.createElement('div');\n",
              "        docLink.innerHTML = docLinkHtml;\n",
              "        element.appendChild(docLink);\n",
              "      }\n",
              "    </script>\n",
              "  </div>\n",
              "\n",
              "\n",
              "<div id=\"df-8563f0c5-3100-4f72-9389-032c1ba4e5a1\">\n",
              "  <button class=\"colab-df-quickchart\" onclick=\"quickchart('df-8563f0c5-3100-4f72-9389-032c1ba4e5a1')\"\n",
              "            title=\"Suggest charts.\"\n",
              "            style=\"display:none;\">\n",
              "\n",
              "<svg xmlns=\"http://www.w3.org/2000/svg\" height=\"24px\"viewBox=\"0 0 24 24\"\n",
              "     width=\"24px\">\n",
              "    <g>\n",
              "        <path d=\"M19 3H5c-1.1 0-2 .9-2 2v14c0 1.1.9 2 2 2h14c1.1 0 2-.9 2-2V5c0-1.1-.9-2-2-2zM9 17H7v-7h2v7zm4 0h-2V7h2v10zm4 0h-2v-4h2v4z\"/>\n",
              "    </g>\n",
              "</svg>\n",
              "  </button>\n",
              "\n",
              "<style>\n",
              "  .colab-df-quickchart {\n",
              "      --bg-color: #E8F0FE;\n",
              "      --fill-color: #1967D2;\n",
              "      --hover-bg-color: #E2EBFA;\n",
              "      --hover-fill-color: #174EA6;\n",
              "      --disabled-fill-color: #AAA;\n",
              "      --disabled-bg-color: #DDD;\n",
              "  }\n",
              "\n",
              "  [theme=dark] .colab-df-quickchart {\n",
              "      --bg-color: #3B4455;\n",
              "      --fill-color: #D2E3FC;\n",
              "      --hover-bg-color: #434B5C;\n",
              "      --hover-fill-color: #FFFFFF;\n",
              "      --disabled-bg-color: #3B4455;\n",
              "      --disabled-fill-color: #666;\n",
              "  }\n",
              "\n",
              "  .colab-df-quickchart {\n",
              "    background-color: var(--bg-color);\n",
              "    border: none;\n",
              "    border-radius: 50%;\n",
              "    cursor: pointer;\n",
              "    display: none;\n",
              "    fill: var(--fill-color);\n",
              "    height: 32px;\n",
              "    padding: 0;\n",
              "    width: 32px;\n",
              "  }\n",
              "\n",
              "  .colab-df-quickchart:hover {\n",
              "    background-color: var(--hover-bg-color);\n",
              "    box-shadow: 0 1px 2px rgba(60, 64, 67, 0.3), 0 1px 3px 1px rgba(60, 64, 67, 0.15);\n",
              "    fill: var(--button-hover-fill-color);\n",
              "  }\n",
              "\n",
              "  .colab-df-quickchart-complete:disabled,\n",
              "  .colab-df-quickchart-complete:disabled:hover {\n",
              "    background-color: var(--disabled-bg-color);\n",
              "    fill: var(--disabled-fill-color);\n",
              "    box-shadow: none;\n",
              "  }\n",
              "\n",
              "  .colab-df-spinner {\n",
              "    border: 2px solid var(--fill-color);\n",
              "    border-color: transparent;\n",
              "    border-bottom-color: var(--fill-color);\n",
              "    animation:\n",
              "      spin 1s steps(1) infinite;\n",
              "  }\n",
              "\n",
              "  @keyframes spin {\n",
              "    0% {\n",
              "      border-color: transparent;\n",
              "      border-bottom-color: var(--fill-color);\n",
              "      border-left-color: var(--fill-color);\n",
              "    }\n",
              "    20% {\n",
              "      border-color: transparent;\n",
              "      border-left-color: var(--fill-color);\n",
              "      border-top-color: var(--fill-color);\n",
              "    }\n",
              "    30% {\n",
              "      border-color: transparent;\n",
              "      border-left-color: var(--fill-color);\n",
              "      border-top-color: var(--fill-color);\n",
              "      border-right-color: var(--fill-color);\n",
              "    }\n",
              "    40% {\n",
              "      border-color: transparent;\n",
              "      border-right-color: var(--fill-color);\n",
              "      border-top-color: var(--fill-color);\n",
              "    }\n",
              "    60% {\n",
              "      border-color: transparent;\n",
              "      border-right-color: var(--fill-color);\n",
              "    }\n",
              "    80% {\n",
              "      border-color: transparent;\n",
              "      border-right-color: var(--fill-color);\n",
              "      border-bottom-color: var(--fill-color);\n",
              "    }\n",
              "    90% {\n",
              "      border-color: transparent;\n",
              "      border-bottom-color: var(--fill-color);\n",
              "    }\n",
              "  }\n",
              "</style>\n",
              "\n",
              "  <script>\n",
              "    async function quickchart(key) {\n",
              "      const quickchartButtonEl =\n",
              "        document.querySelector('#' + key + ' button');\n",
              "      quickchartButtonEl.disabled = true;  // To prevent multiple clicks.\n",
              "      quickchartButtonEl.classList.add('colab-df-spinner');\n",
              "      try {\n",
              "        const charts = await google.colab.kernel.invokeFunction(\n",
              "            'suggestCharts', [key], {});\n",
              "      } catch (error) {\n",
              "        console.error('Error during call to suggestCharts:', error);\n",
              "      }\n",
              "      quickchartButtonEl.classList.remove('colab-df-spinner');\n",
              "      quickchartButtonEl.classList.add('colab-df-quickchart-complete');\n",
              "    }\n",
              "    (() => {\n",
              "      let quickchartButtonEl =\n",
              "        document.querySelector('#df-8563f0c5-3100-4f72-9389-032c1ba4e5a1 button');\n",
              "      quickchartButtonEl.style.display =\n",
              "        google.colab.kernel.accessAllowed ? 'block' : 'none';\n",
              "    })();\n",
              "  </script>\n",
              "</div>\n",
              "    </div>\n",
              "  </div>\n"
            ]
          },
          "metadata": {},
          "execution_count": 185
        }
      ]
    },
    {
      "cell_type": "code",
      "source": [
        "type(data2[\"compas_screening_date\"])"
      ],
      "metadata": {
        "colab": {
          "base_uri": "https://localhost:8080/"
        },
        "id": "w-ljwakPcxtk",
        "outputId": "93803d5c-1da0-4c45-ffad-c4373693f43d"
      },
      "execution_count": 186,
      "outputs": [
        {
          "output_type": "execute_result",
          "data": {
            "text/plain": [
              "pandas.core.series.Series"
            ]
          },
          "metadata": {},
          "execution_count": 186
        }
      ]
    },
    {
      "cell_type": "code",
      "source": [
        "data2[\"score_text\"]"
      ],
      "metadata": {
        "colab": {
          "base_uri": "https://localhost:8080/"
        },
        "id": "-pcRavX_c6zD",
        "outputId": "d0776c47-a33e-4fb8-e7cf-dbe17924760a"
      },
      "execution_count": 187,
      "outputs": [
        {
          "output_type": "execute_result",
          "data": {
            "text/plain": [
              "0           Low\n",
              "1           Low\n",
              "2        Medium\n",
              "3           Low\n",
              "4           Low\n",
              "          ...  \n",
              "18311    Medium\n",
              "18312       Low\n",
              "18313       Low\n",
              "18314       Low\n",
              "18315       Low\n",
              "Name: score_text, Length: 18316, dtype: object"
            ]
          },
          "metadata": {},
          "execution_count": 187
        }
      ]
    },
    {
      "cell_type": "code",
      "source": [
        "data2.describe()"
      ],
      "metadata": {
        "colab": {
          "base_uri": "https://localhost:8080/",
          "height": 320
        },
        "id": "m-Evz2ZjDzhR",
        "outputId": "8747997d-07e7-420f-8f3f-8da67a9b2849"
      },
      "execution_count": 188,
      "outputs": [
        {
          "output_type": "execute_result",
          "data": {
            "text/plain": [
              "                id           age  juv_fel_count  decile_score  juv_misd_count  \\\n",
              "count  11001.00000  18316.000000   18316.000000  18316.000000    18316.000000   \n",
              "mean    5501.00000     34.019273       0.076873      4.997052        0.098439   \n",
              "std     3175.85949     11.667811       0.464272      2.937569        0.517639   \n",
              "min        1.00000     18.000000       0.000000     -1.000000        0.000000   \n",
              "25%     2751.00000     25.000000       0.000000      2.000000        0.000000   \n",
              "50%     5501.00000     31.000000       0.000000      5.000000        0.000000   \n",
              "75%     8251.00000     41.000000       0.000000      8.000000        0.000000   \n",
              "max    11001.00000     96.000000      20.000000     10.000000       13.000000   \n",
              "\n",
              "       juv_other_count  priors_count  days_b_screening_arrest  \\\n",
              "count     18316.000000  18316.000000             17019.000000   \n",
              "mean          0.124263      3.913191                 4.302485   \n",
              "std           0.524537      5.299864                81.159881   \n",
              "min           0.000000      0.000000              -597.000000   \n",
              "25%           0.000000      0.000000                -1.000000   \n",
              "50%           0.000000      2.000000                -1.000000   \n",
              "75%           0.000000      5.000000                 0.000000   \n",
              "max          17.000000     43.000000              1057.000000   \n",
              "\n",
              "       c_days_from_compas      is_recid  r_days_from_arrest  violent_recid  \\\n",
              "count        17449.000000  18316.000000         6359.000000            0.0   \n",
              "mean            57.694596      0.414774           19.961629            NaN   \n",
              "std            317.994694      0.576449           74.139695            NaN   \n",
              "min              0.000000     -1.000000           -1.000000            NaN   \n",
              "25%              1.000000      0.000000            0.000000            NaN   \n",
              "50%              1.000000      0.000000            0.000000            NaN   \n",
              "75%              2.000000      1.000000            1.000000            NaN   \n",
              "max           9485.000000      1.000000          993.000000            NaN   \n",
              "\n",
              "       is_violent_recid  decile_score.1  v_decile_score  priors_count.1  \\\n",
              "count      18316.000000    18316.000000    18316.000000    18316.000000   \n",
              "mean           0.073105        4.997052        4.022822        3.913191   \n",
              "std            0.260317        2.937569        2.614189        5.299864   \n",
              "min            0.000000       -1.000000       -1.000000        0.000000   \n",
              "25%            0.000000        2.000000        2.000000        0.000000   \n",
              "50%            0.000000        5.000000        4.000000        2.000000   \n",
              "75%            0.000000        8.000000        6.000000        5.000000   \n",
              "max            1.000000       10.000000       10.000000       43.000000   \n",
              "\n",
              "              start           end         event  \n",
              "count  18316.000000  18316.000000  18316.000000  \n",
              "mean     186.394901    625.210636      0.044715  \n",
              "std      283.373004    335.881439      0.206683  \n",
              "min        0.000000      0.000000      0.000000  \n",
              "25%        0.000000    364.000000      0.000000  \n",
              "50%        7.000000    634.000000      0.000000  \n",
              "75%      309.000000    897.000000      0.000000  \n",
              "max     1197.000000   1187.000000      1.000000  "
            ],
            "text/html": [
              "\n",
              "  <div id=\"df-fb2d114f-cd35-4539-a16a-aecae5d71956\" class=\"colab-df-container\">\n",
              "    <div>\n",
              "<style scoped>\n",
              "    .dataframe tbody tr th:only-of-type {\n",
              "        vertical-align: middle;\n",
              "    }\n",
              "\n",
              "    .dataframe tbody tr th {\n",
              "        vertical-align: top;\n",
              "    }\n",
              "\n",
              "    .dataframe thead th {\n",
              "        text-align: right;\n",
              "    }\n",
              "</style>\n",
              "<table border=\"1\" class=\"dataframe\">\n",
              "  <thead>\n",
              "    <tr style=\"text-align: right;\">\n",
              "      <th></th>\n",
              "      <th>id</th>\n",
              "      <th>age</th>\n",
              "      <th>juv_fel_count</th>\n",
              "      <th>decile_score</th>\n",
              "      <th>juv_misd_count</th>\n",
              "      <th>juv_other_count</th>\n",
              "      <th>priors_count</th>\n",
              "      <th>days_b_screening_arrest</th>\n",
              "      <th>c_days_from_compas</th>\n",
              "      <th>is_recid</th>\n",
              "      <th>r_days_from_arrest</th>\n",
              "      <th>violent_recid</th>\n",
              "      <th>is_violent_recid</th>\n",
              "      <th>decile_score.1</th>\n",
              "      <th>v_decile_score</th>\n",
              "      <th>priors_count.1</th>\n",
              "      <th>start</th>\n",
              "      <th>end</th>\n",
              "      <th>event</th>\n",
              "    </tr>\n",
              "  </thead>\n",
              "  <tbody>\n",
              "    <tr>\n",
              "      <th>count</th>\n",
              "      <td>11001.00000</td>\n",
              "      <td>18316.000000</td>\n",
              "      <td>18316.000000</td>\n",
              "      <td>18316.000000</td>\n",
              "      <td>18316.000000</td>\n",
              "      <td>18316.000000</td>\n",
              "      <td>18316.000000</td>\n",
              "      <td>17019.000000</td>\n",
              "      <td>17449.000000</td>\n",
              "      <td>18316.000000</td>\n",
              "      <td>6359.000000</td>\n",
              "      <td>0.0</td>\n",
              "      <td>18316.000000</td>\n",
              "      <td>18316.000000</td>\n",
              "      <td>18316.000000</td>\n",
              "      <td>18316.000000</td>\n",
              "      <td>18316.000000</td>\n",
              "      <td>18316.000000</td>\n",
              "      <td>18316.000000</td>\n",
              "    </tr>\n",
              "    <tr>\n",
              "      <th>mean</th>\n",
              "      <td>5501.00000</td>\n",
              "      <td>34.019273</td>\n",
              "      <td>0.076873</td>\n",
              "      <td>4.997052</td>\n",
              "      <td>0.098439</td>\n",
              "      <td>0.124263</td>\n",
              "      <td>3.913191</td>\n",
              "      <td>4.302485</td>\n",
              "      <td>57.694596</td>\n",
              "      <td>0.414774</td>\n",
              "      <td>19.961629</td>\n",
              "      <td>NaN</td>\n",
              "      <td>0.073105</td>\n",
              "      <td>4.997052</td>\n",
              "      <td>4.022822</td>\n",
              "      <td>3.913191</td>\n",
              "      <td>186.394901</td>\n",
              "      <td>625.210636</td>\n",
              "      <td>0.044715</td>\n",
              "    </tr>\n",
              "    <tr>\n",
              "      <th>std</th>\n",
              "      <td>3175.85949</td>\n",
              "      <td>11.667811</td>\n",
              "      <td>0.464272</td>\n",
              "      <td>2.937569</td>\n",
              "      <td>0.517639</td>\n",
              "      <td>0.524537</td>\n",
              "      <td>5.299864</td>\n",
              "      <td>81.159881</td>\n",
              "      <td>317.994694</td>\n",
              "      <td>0.576449</td>\n",
              "      <td>74.139695</td>\n",
              "      <td>NaN</td>\n",
              "      <td>0.260317</td>\n",
              "      <td>2.937569</td>\n",
              "      <td>2.614189</td>\n",
              "      <td>5.299864</td>\n",
              "      <td>283.373004</td>\n",
              "      <td>335.881439</td>\n",
              "      <td>0.206683</td>\n",
              "    </tr>\n",
              "    <tr>\n",
              "      <th>min</th>\n",
              "      <td>1.00000</td>\n",
              "      <td>18.000000</td>\n",
              "      <td>0.000000</td>\n",
              "      <td>-1.000000</td>\n",
              "      <td>0.000000</td>\n",
              "      <td>0.000000</td>\n",
              "      <td>0.000000</td>\n",
              "      <td>-597.000000</td>\n",
              "      <td>0.000000</td>\n",
              "      <td>-1.000000</td>\n",
              "      <td>-1.000000</td>\n",
              "      <td>NaN</td>\n",
              "      <td>0.000000</td>\n",
              "      <td>-1.000000</td>\n",
              "      <td>-1.000000</td>\n",
              "      <td>0.000000</td>\n",
              "      <td>0.000000</td>\n",
              "      <td>0.000000</td>\n",
              "      <td>0.000000</td>\n",
              "    </tr>\n",
              "    <tr>\n",
              "      <th>25%</th>\n",
              "      <td>2751.00000</td>\n",
              "      <td>25.000000</td>\n",
              "      <td>0.000000</td>\n",
              "      <td>2.000000</td>\n",
              "      <td>0.000000</td>\n",
              "      <td>0.000000</td>\n",
              "      <td>0.000000</td>\n",
              "      <td>-1.000000</td>\n",
              "      <td>1.000000</td>\n",
              "      <td>0.000000</td>\n",
              "      <td>0.000000</td>\n",
              "      <td>NaN</td>\n",
              "      <td>0.000000</td>\n",
              "      <td>2.000000</td>\n",
              "      <td>2.000000</td>\n",
              "      <td>0.000000</td>\n",
              "      <td>0.000000</td>\n",
              "      <td>364.000000</td>\n",
              "      <td>0.000000</td>\n",
              "    </tr>\n",
              "    <tr>\n",
              "      <th>50%</th>\n",
              "      <td>5501.00000</td>\n",
              "      <td>31.000000</td>\n",
              "      <td>0.000000</td>\n",
              "      <td>5.000000</td>\n",
              "      <td>0.000000</td>\n",
              "      <td>0.000000</td>\n",
              "      <td>2.000000</td>\n",
              "      <td>-1.000000</td>\n",
              "      <td>1.000000</td>\n",
              "      <td>0.000000</td>\n",
              "      <td>0.000000</td>\n",
              "      <td>NaN</td>\n",
              "      <td>0.000000</td>\n",
              "      <td>5.000000</td>\n",
              "      <td>4.000000</td>\n",
              "      <td>2.000000</td>\n",
              "      <td>7.000000</td>\n",
              "      <td>634.000000</td>\n",
              "      <td>0.000000</td>\n",
              "    </tr>\n",
              "    <tr>\n",
              "      <th>75%</th>\n",
              "      <td>8251.00000</td>\n",
              "      <td>41.000000</td>\n",
              "      <td>0.000000</td>\n",
              "      <td>8.000000</td>\n",
              "      <td>0.000000</td>\n",
              "      <td>0.000000</td>\n",
              "      <td>5.000000</td>\n",
              "      <td>0.000000</td>\n",
              "      <td>2.000000</td>\n",
              "      <td>1.000000</td>\n",
              "      <td>1.000000</td>\n",
              "      <td>NaN</td>\n",
              "      <td>0.000000</td>\n",
              "      <td>8.000000</td>\n",
              "      <td>6.000000</td>\n",
              "      <td>5.000000</td>\n",
              "      <td>309.000000</td>\n",
              "      <td>897.000000</td>\n",
              "      <td>0.000000</td>\n",
              "    </tr>\n",
              "    <tr>\n",
              "      <th>max</th>\n",
              "      <td>11001.00000</td>\n",
              "      <td>96.000000</td>\n",
              "      <td>20.000000</td>\n",
              "      <td>10.000000</td>\n",
              "      <td>13.000000</td>\n",
              "      <td>17.000000</td>\n",
              "      <td>43.000000</td>\n",
              "      <td>1057.000000</td>\n",
              "      <td>9485.000000</td>\n",
              "      <td>1.000000</td>\n",
              "      <td>993.000000</td>\n",
              "      <td>NaN</td>\n",
              "      <td>1.000000</td>\n",
              "      <td>10.000000</td>\n",
              "      <td>10.000000</td>\n",
              "      <td>43.000000</td>\n",
              "      <td>1197.000000</td>\n",
              "      <td>1187.000000</td>\n",
              "      <td>1.000000</td>\n",
              "    </tr>\n",
              "  </tbody>\n",
              "</table>\n",
              "</div>\n",
              "    <div class=\"colab-df-buttons\">\n",
              "\n",
              "  <div class=\"colab-df-container\">\n",
              "    <button class=\"colab-df-convert\" onclick=\"convertToInteractive('df-fb2d114f-cd35-4539-a16a-aecae5d71956')\"\n",
              "            title=\"Convert this dataframe to an interactive table.\"\n",
              "            style=\"display:none;\">\n",
              "\n",
              "  <svg xmlns=\"http://www.w3.org/2000/svg\" height=\"24px\" viewBox=\"0 -960 960 960\">\n",
              "    <path d=\"M120-120v-720h720v720H120Zm60-500h600v-160H180v160Zm220 220h160v-160H400v160Zm0 220h160v-160H400v160ZM180-400h160v-160H180v160Zm440 0h160v-160H620v160ZM180-180h160v-160H180v160Zm440 0h160v-160H620v160Z\"/>\n",
              "  </svg>\n",
              "    </button>\n",
              "\n",
              "  <style>\n",
              "    .colab-df-container {\n",
              "      display:flex;\n",
              "      gap: 12px;\n",
              "    }\n",
              "\n",
              "    .colab-df-convert {\n",
              "      background-color: #E8F0FE;\n",
              "      border: none;\n",
              "      border-radius: 50%;\n",
              "      cursor: pointer;\n",
              "      display: none;\n",
              "      fill: #1967D2;\n",
              "      height: 32px;\n",
              "      padding: 0 0 0 0;\n",
              "      width: 32px;\n",
              "    }\n",
              "\n",
              "    .colab-df-convert:hover {\n",
              "      background-color: #E2EBFA;\n",
              "      box-shadow: 0px 1px 2px rgba(60, 64, 67, 0.3), 0px 1px 3px 1px rgba(60, 64, 67, 0.15);\n",
              "      fill: #174EA6;\n",
              "    }\n",
              "\n",
              "    .colab-df-buttons div {\n",
              "      margin-bottom: 4px;\n",
              "    }\n",
              "\n",
              "    [theme=dark] .colab-df-convert {\n",
              "      background-color: #3B4455;\n",
              "      fill: #D2E3FC;\n",
              "    }\n",
              "\n",
              "    [theme=dark] .colab-df-convert:hover {\n",
              "      background-color: #434B5C;\n",
              "      box-shadow: 0px 1px 3px 1px rgba(0, 0, 0, 0.15);\n",
              "      filter: drop-shadow(0px 1px 2px rgba(0, 0, 0, 0.3));\n",
              "      fill: #FFFFFF;\n",
              "    }\n",
              "  </style>\n",
              "\n",
              "    <script>\n",
              "      const buttonEl =\n",
              "        document.querySelector('#df-fb2d114f-cd35-4539-a16a-aecae5d71956 button.colab-df-convert');\n",
              "      buttonEl.style.display =\n",
              "        google.colab.kernel.accessAllowed ? 'block' : 'none';\n",
              "\n",
              "      async function convertToInteractive(key) {\n",
              "        const element = document.querySelector('#df-fb2d114f-cd35-4539-a16a-aecae5d71956');\n",
              "        const dataTable =\n",
              "          await google.colab.kernel.invokeFunction('convertToInteractive',\n",
              "                                                    [key], {});\n",
              "        if (!dataTable) return;\n",
              "\n",
              "        const docLinkHtml = 'Like what you see? Visit the ' +\n",
              "          '<a target=\"_blank\" href=https://colab.research.google.com/notebooks/data_table.ipynb>data table notebook</a>'\n",
              "          + ' to learn more about interactive tables.';\n",
              "        element.innerHTML = '';\n",
              "        dataTable['output_type'] = 'display_data';\n",
              "        await google.colab.output.renderOutput(dataTable, element);\n",
              "        const docLink = document.createElement('div');\n",
              "        docLink.innerHTML = docLinkHtml;\n",
              "        element.appendChild(docLink);\n",
              "      }\n",
              "    </script>\n",
              "  </div>\n",
              "\n",
              "\n",
              "<div id=\"df-179ec9f0-6118-4ac6-81ac-e1236cec2c39\">\n",
              "  <button class=\"colab-df-quickchart\" onclick=\"quickchart('df-179ec9f0-6118-4ac6-81ac-e1236cec2c39')\"\n",
              "            title=\"Suggest charts.\"\n",
              "            style=\"display:none;\">\n",
              "\n",
              "<svg xmlns=\"http://www.w3.org/2000/svg\" height=\"24px\"viewBox=\"0 0 24 24\"\n",
              "     width=\"24px\">\n",
              "    <g>\n",
              "        <path d=\"M19 3H5c-1.1 0-2 .9-2 2v14c0 1.1.9 2 2 2h14c1.1 0 2-.9 2-2V5c0-1.1-.9-2-2-2zM9 17H7v-7h2v7zm4 0h-2V7h2v10zm4 0h-2v-4h2v4z\"/>\n",
              "    </g>\n",
              "</svg>\n",
              "  </button>\n",
              "\n",
              "<style>\n",
              "  .colab-df-quickchart {\n",
              "      --bg-color: #E8F0FE;\n",
              "      --fill-color: #1967D2;\n",
              "      --hover-bg-color: #E2EBFA;\n",
              "      --hover-fill-color: #174EA6;\n",
              "      --disabled-fill-color: #AAA;\n",
              "      --disabled-bg-color: #DDD;\n",
              "  }\n",
              "\n",
              "  [theme=dark] .colab-df-quickchart {\n",
              "      --bg-color: #3B4455;\n",
              "      --fill-color: #D2E3FC;\n",
              "      --hover-bg-color: #434B5C;\n",
              "      --hover-fill-color: #FFFFFF;\n",
              "      --disabled-bg-color: #3B4455;\n",
              "      --disabled-fill-color: #666;\n",
              "  }\n",
              "\n",
              "  .colab-df-quickchart {\n",
              "    background-color: var(--bg-color);\n",
              "    border: none;\n",
              "    border-radius: 50%;\n",
              "    cursor: pointer;\n",
              "    display: none;\n",
              "    fill: var(--fill-color);\n",
              "    height: 32px;\n",
              "    padding: 0;\n",
              "    width: 32px;\n",
              "  }\n",
              "\n",
              "  .colab-df-quickchart:hover {\n",
              "    background-color: var(--hover-bg-color);\n",
              "    box-shadow: 0 1px 2px rgba(60, 64, 67, 0.3), 0 1px 3px 1px rgba(60, 64, 67, 0.15);\n",
              "    fill: var(--button-hover-fill-color);\n",
              "  }\n",
              "\n",
              "  .colab-df-quickchart-complete:disabled,\n",
              "  .colab-df-quickchart-complete:disabled:hover {\n",
              "    background-color: var(--disabled-bg-color);\n",
              "    fill: var(--disabled-fill-color);\n",
              "    box-shadow: none;\n",
              "  }\n",
              "\n",
              "  .colab-df-spinner {\n",
              "    border: 2px solid var(--fill-color);\n",
              "    border-color: transparent;\n",
              "    border-bottom-color: var(--fill-color);\n",
              "    animation:\n",
              "      spin 1s steps(1) infinite;\n",
              "  }\n",
              "\n",
              "  @keyframes spin {\n",
              "    0% {\n",
              "      border-color: transparent;\n",
              "      border-bottom-color: var(--fill-color);\n",
              "      border-left-color: var(--fill-color);\n",
              "    }\n",
              "    20% {\n",
              "      border-color: transparent;\n",
              "      border-left-color: var(--fill-color);\n",
              "      border-top-color: var(--fill-color);\n",
              "    }\n",
              "    30% {\n",
              "      border-color: transparent;\n",
              "      border-left-color: var(--fill-color);\n",
              "      border-top-color: var(--fill-color);\n",
              "      border-right-color: var(--fill-color);\n",
              "    }\n",
              "    40% {\n",
              "      border-color: transparent;\n",
              "      border-right-color: var(--fill-color);\n",
              "      border-top-color: var(--fill-color);\n",
              "    }\n",
              "    60% {\n",
              "      border-color: transparent;\n",
              "      border-right-color: var(--fill-color);\n",
              "    }\n",
              "    80% {\n",
              "      border-color: transparent;\n",
              "      border-right-color: var(--fill-color);\n",
              "      border-bottom-color: var(--fill-color);\n",
              "    }\n",
              "    90% {\n",
              "      border-color: transparent;\n",
              "      border-bottom-color: var(--fill-color);\n",
              "    }\n",
              "  }\n",
              "</style>\n",
              "\n",
              "  <script>\n",
              "    async function quickchart(key) {\n",
              "      const quickchartButtonEl =\n",
              "        document.querySelector('#' + key + ' button');\n",
              "      quickchartButtonEl.disabled = true;  // To prevent multiple clicks.\n",
              "      quickchartButtonEl.classList.add('colab-df-spinner');\n",
              "      try {\n",
              "        const charts = await google.colab.kernel.invokeFunction(\n",
              "            'suggestCharts', [key], {});\n",
              "      } catch (error) {\n",
              "        console.error('Error during call to suggestCharts:', error);\n",
              "      }\n",
              "      quickchartButtonEl.classList.remove('colab-df-spinner');\n",
              "      quickchartButtonEl.classList.add('colab-df-quickchart-complete');\n",
              "    }\n",
              "    (() => {\n",
              "      let quickchartButtonEl =\n",
              "        document.querySelector('#df-179ec9f0-6118-4ac6-81ac-e1236cec2c39 button');\n",
              "      quickchartButtonEl.style.display =\n",
              "        google.colab.kernel.accessAllowed ? 'block' : 'none';\n",
              "    })();\n",
              "  </script>\n",
              "</div>\n",
              "    </div>\n",
              "  </div>\n"
            ]
          },
          "metadata": {},
          "execution_count": 188
        }
      ]
    },
    {
      "cell_type": "code",
      "source": [
        "data2.info()"
      ],
      "metadata": {
        "colab": {
          "base_uri": "https://localhost:8080/"
        },
        "id": "ucpdgO88D2Ni",
        "outputId": "084a65dd-e628-4c90-c34b-e4a6ad89a2de"
      },
      "execution_count": 189,
      "outputs": [
        {
          "output_type": "stream",
          "name": "stdout",
          "text": [
            "<class 'pandas.core.frame.DataFrame'>\n",
            "RangeIndex: 18316 entries, 0 to 18315\n",
            "Data columns (total 52 columns):\n",
            " #   Column                   Non-Null Count  Dtype  \n",
            "---  ------                   --------------  -----  \n",
            " 0   id                       11001 non-null  float64\n",
            " 1   name                     18316 non-null  object \n",
            " 2   first                    18316 non-null  object \n",
            " 3   last                     18316 non-null  object \n",
            " 4   compas_screening_date    18316 non-null  object \n",
            " 5   sex                      18316 non-null  object \n",
            " 6   dob                      18316 non-null  object \n",
            " 7   age                      18316 non-null  int64  \n",
            " 8   age_cat                  18316 non-null  object \n",
            " 9   race                     18316 non-null  object \n",
            " 10  juv_fel_count            18316 non-null  int64  \n",
            " 11  decile_score             18316 non-null  int64  \n",
            " 12  juv_misd_count           18316 non-null  int64  \n",
            " 13  juv_other_count          18316 non-null  int64  \n",
            " 14  priors_count             18316 non-null  int64  \n",
            " 15  days_b_screening_arrest  17019 non-null  float64\n",
            " 16  c_jail_in                17019 non-null  object \n",
            " 17  c_jail_out               17019 non-null  object \n",
            " 18  c_case_number            17449 non-null  object \n",
            " 19  c_offense_date           14364 non-null  object \n",
            " 20  c_arrest_date            3085 non-null   object \n",
            " 21  c_days_from_compas       17449 non-null  float64\n",
            " 22  c_charge_degree          17449 non-null  object \n",
            " 23  c_charge_desc            17435 non-null  object \n",
            " 24  is_recid                 18316 non-null  int64  \n",
            " 25  r_case_number            8417 non-null   object \n",
            " 26  r_charge_degree          8417 non-null   object \n",
            " 27  r_days_from_arrest       6359 non-null   float64\n",
            " 28  r_offense_date           8417 non-null   object \n",
            " 29  r_charge_desc            8277 non-null   object \n",
            " 30  r_jail_in                6359 non-null   object \n",
            " 31  r_jail_out               6359 non-null   object \n",
            " 32  violent_recid            0 non-null      float64\n",
            " 33  is_violent_recid         18316 non-null  int64  \n",
            " 34  vr_case_number           1339 non-null   object \n",
            " 35  vr_charge_degree         1339 non-null   object \n",
            " 36  vr_offense_date          1339 non-null   object \n",
            " 37  vr_charge_desc           1339 non-null   object \n",
            " 38  type_of_assessment       18316 non-null  object \n",
            " 39  decile_score.1           18316 non-null  int64  \n",
            " 40  score_text               18293 non-null  object \n",
            " 41  screening_date           18316 non-null  object \n",
            " 42  v_type_of_assessment     18316 non-null  object \n",
            " 43  v_decile_score           18316 non-null  int64  \n",
            " 44  v_score_text             18310 non-null  object \n",
            " 45  v_screening_date         18316 non-null  object \n",
            " 46  in_custody               17722 non-null  object \n",
            " 47  out_custody              17722 non-null  object \n",
            " 48  priors_count.1           18316 non-null  int64  \n",
            " 49  start                    18316 non-null  int64  \n",
            " 50  end                      18316 non-null  int64  \n",
            " 51  event                    18316 non-null  int64  \n",
            "dtypes: float64(5), int64(14), object(33)\n",
            "memory usage: 7.3+ MB\n"
          ]
        }
      ]
    },
    {
      "cell_type": "markdown",
      "source": [
        "**Data Preprocessing and Cleaning**"
      ],
      "metadata": {
        "id": "-F8lhloE1bpE"
      }
    },
    {
      "cell_type": "markdown",
      "source": [
        "*Feature Selection*"
      ],
      "metadata": {
        "id": "oZKVwTT07epi"
      }
    },
    {
      "cell_type": "code",
      "source": [
        "data2 = data2.drop(['compas_screening_date','id','name','first','last','dob','screening_date','start','end','priors_count.1','event','c_case_number','v_screening_date','c_offense_date','in_custody','out_custody','c_jail_in','c_jail_out','c_days_from_compas','days_b_screening_arrest','c_arrest_date','violent_recid','vr_case_number','vr_charge_degree','vr_offense_date','vr_charge_desc','r_case_number','r_charge_degree','r_days_from_arrest','r_offense_date','r_charge_desc','r_jail_in','r_jail_out'], axis=1)"
      ],
      "metadata": {
        "id": "ViUEeaMdKC0b"
      },
      "execution_count": 190,
      "outputs": []
    },
    {
      "cell_type": "code",
      "source": [
        "data2.info()"
      ],
      "metadata": {
        "colab": {
          "base_uri": "https://localhost:8080/"
        },
        "id": "WZs3SmmyGGmt",
        "outputId": "eb630b41-1e74-4e38-cb61-01b131182890"
      },
      "execution_count": 191,
      "outputs": [
        {
          "output_type": "stream",
          "name": "stdout",
          "text": [
            "<class 'pandas.core.frame.DataFrame'>\n",
            "RangeIndex: 18316 entries, 0 to 18315\n",
            "Data columns (total 19 columns):\n",
            " #   Column                Non-Null Count  Dtype \n",
            "---  ------                --------------  ----- \n",
            " 0   sex                   18316 non-null  object\n",
            " 1   age                   18316 non-null  int64 \n",
            " 2   age_cat               18316 non-null  object\n",
            " 3   race                  18316 non-null  object\n",
            " 4   juv_fel_count         18316 non-null  int64 \n",
            " 5   decile_score          18316 non-null  int64 \n",
            " 6   juv_misd_count        18316 non-null  int64 \n",
            " 7   juv_other_count       18316 non-null  int64 \n",
            " 8   priors_count          18316 non-null  int64 \n",
            " 9   c_charge_degree       17449 non-null  object\n",
            " 10  c_charge_desc         17435 non-null  object\n",
            " 11  is_recid              18316 non-null  int64 \n",
            " 12  is_violent_recid      18316 non-null  int64 \n",
            " 13  type_of_assessment    18316 non-null  object\n",
            " 14  decile_score.1        18316 non-null  int64 \n",
            " 15  score_text            18293 non-null  object\n",
            " 16  v_type_of_assessment  18316 non-null  object\n",
            " 17  v_decile_score        18316 non-null  int64 \n",
            " 18  v_score_text          18310 non-null  object\n",
            "dtypes: int64(10), object(9)\n",
            "memory usage: 2.7+ MB\n"
          ]
        }
      ]
    },
    {
      "cell_type": "markdown",
      "source": [
        "*Handling Missing Data*"
      ],
      "metadata": {
        "id": "0s80N0pe7tDX"
      }
    },
    {
      "cell_type": "code",
      "source": [
        "data2.isnull().sum()"
      ],
      "metadata": {
        "colab": {
          "base_uri": "https://localhost:8080/"
        },
        "id": "0xUsvZJW2E9n",
        "outputId": "d0f3c21c-c5d2-47f2-da95-9539792696d5"
      },
      "execution_count": 192,
      "outputs": [
        {
          "output_type": "execute_result",
          "data": {
            "text/plain": [
              "sex                       0\n",
              "age                       0\n",
              "age_cat                   0\n",
              "race                      0\n",
              "juv_fel_count             0\n",
              "decile_score              0\n",
              "juv_misd_count            0\n",
              "juv_other_count           0\n",
              "priors_count              0\n",
              "c_charge_degree         867\n",
              "c_charge_desc           881\n",
              "is_recid                  0\n",
              "is_violent_recid          0\n",
              "type_of_assessment        0\n",
              "decile_score.1            0\n",
              "score_text               23\n",
              "v_type_of_assessment      0\n",
              "v_decile_score            0\n",
              "v_score_text              6\n",
              "dtype: int64"
            ]
          },
          "metadata": {},
          "execution_count": 192
        }
      ]
    },
    {
      "cell_type": "code",
      "source": [
        "data2.dropna(inplace=True)"
      ],
      "metadata": {
        "id": "v6Q4MPli2FPx"
      },
      "execution_count": 193,
      "outputs": []
    },
    {
      "cell_type": "code",
      "source": [
        "data2.info()"
      ],
      "metadata": {
        "colab": {
          "base_uri": "https://localhost:8080/"
        },
        "id": "e6ii_6Nc6xJp",
        "outputId": "e5daacb8-6878-45be-d0d2-ed2d5890ab50"
      },
      "execution_count": 194,
      "outputs": [
        {
          "output_type": "stream",
          "name": "stdout",
          "text": [
            "<class 'pandas.core.frame.DataFrame'>\n",
            "Int64Index: 17418 entries, 0 to 18315\n",
            "Data columns (total 19 columns):\n",
            " #   Column                Non-Null Count  Dtype \n",
            "---  ------                --------------  ----- \n",
            " 0   sex                   17418 non-null  object\n",
            " 1   age                   17418 non-null  int64 \n",
            " 2   age_cat               17418 non-null  object\n",
            " 3   race                  17418 non-null  object\n",
            " 4   juv_fel_count         17418 non-null  int64 \n",
            " 5   decile_score          17418 non-null  int64 \n",
            " 6   juv_misd_count        17418 non-null  int64 \n",
            " 7   juv_other_count       17418 non-null  int64 \n",
            " 8   priors_count          17418 non-null  int64 \n",
            " 9   c_charge_degree       17418 non-null  object\n",
            " 10  c_charge_desc         17418 non-null  object\n",
            " 11  is_recid              17418 non-null  int64 \n",
            " 12  is_violent_recid      17418 non-null  int64 \n",
            " 13  type_of_assessment    17418 non-null  object\n",
            " 14  decile_score.1        17418 non-null  int64 \n",
            " 15  score_text            17418 non-null  object\n",
            " 16  v_type_of_assessment  17418 non-null  object\n",
            " 17  v_decile_score        17418 non-null  int64 \n",
            " 18  v_score_text          17418 non-null  object\n",
            "dtypes: int64(10), object(9)\n",
            "memory usage: 2.7+ MB\n"
          ]
        }
      ]
    },
    {
      "cell_type": "code",
      "source": [
        "#Feature extraction\n",
        "\n",
        "data2['juv_fel_seriousness'] = data2['juv_fel_count'] - data2['juv_misd_count']\n",
        "data2.drop(columns=['juv_fel_count', 'juv_misd_count','juv_other_count'], inplace=True)"
      ],
      "metadata": {
        "id": "8KN0L62E6xQw"
      },
      "execution_count": 195,
      "outputs": []
    },
    {
      "cell_type": "code",
      "source": [
        "#Storing output variables in a seperate column\n",
        "\n",
        "output = data2[['is_recid', 'is_violent_recid']]\n",
        "data2.drop(columns=['is_recid', 'is_violent_recid'], inplace=True)\n",
        "data2 = pd.concat([data2, output], axis=1)"
      ],
      "metadata": {
        "id": "B1J_KcWKRpkV"
      },
      "execution_count": 196,
      "outputs": []
    },
    {
      "cell_type": "markdown",
      "source": [
        "*Column Names*"
      ],
      "metadata": {
        "id": "E98dGj8WDQfd"
      }
    },
    {
      "cell_type": "code",
      "source": [
        "data2.rename(columns={'priors_count': 'n_punished'}, inplace=True)\n",
        "data2.rename(columns={'c_charge_desc':'act(accusation)'}, inplace=True)\n",
        "data2.rename(columns={'decile_score.1':'decile_score_min'}, inplace=True)\n",
        "data2.rename(columns={'score_text':'risk_score'}, inplace=True)\n",
        "data2.rename(columns={'v_type_of_assessment':'m_type_assessment'}, inplace=True)\n",
        "data2.rename(columns={'v_decile_score':'m_decile_score'}, inplace=True)\n",
        "data2.rename(columns={'v_score_text':'m_risk_score'}, inplace=True)"
      ],
      "metadata": {
        "id": "Cnci2i1y10Ft"
      },
      "execution_count": 197,
      "outputs": []
    },
    {
      "cell_type": "code",
      "source": [
        "data2.info()"
      ],
      "metadata": {
        "colab": {
          "base_uri": "https://localhost:8080/"
        },
        "id": "mZWgtMGtEKZJ",
        "outputId": "9b884eb8-6062-47ce-dbbd-261b70c44322"
      },
      "execution_count": 198,
      "outputs": [
        {
          "output_type": "stream",
          "name": "stdout",
          "text": [
            "<class 'pandas.core.frame.DataFrame'>\n",
            "Int64Index: 17418 entries, 0 to 18315\n",
            "Data columns (total 17 columns):\n",
            " #   Column               Non-Null Count  Dtype \n",
            "---  ------               --------------  ----- \n",
            " 0   sex                  17418 non-null  object\n",
            " 1   age                  17418 non-null  int64 \n",
            " 2   age_cat              17418 non-null  object\n",
            " 3   race                 17418 non-null  object\n",
            " 4   decile_score         17418 non-null  int64 \n",
            " 5   n_punished           17418 non-null  int64 \n",
            " 6   c_charge_degree      17418 non-null  object\n",
            " 7   act(accusation)      17418 non-null  object\n",
            " 8   type_of_assessment   17418 non-null  object\n",
            " 9   decile_score_min     17418 non-null  int64 \n",
            " 10  risk_score           17418 non-null  object\n",
            " 11  m_type_assessment    17418 non-null  object\n",
            " 12  m_decile_score       17418 non-null  int64 \n",
            " 13  m_risk_score         17418 non-null  object\n",
            " 14  juv_fel_seriousness  17418 non-null  int64 \n",
            " 15  is_recid             17418 non-null  int64 \n",
            " 16  is_violent_recid     17418 non-null  int64 \n",
            "dtypes: int64(8), object(9)\n",
            "memory usage: 2.4+ MB\n"
          ]
        }
      ]
    },
    {
      "cell_type": "code",
      "source": [
        "data2[\"sex\"].value_counts()"
      ],
      "metadata": {
        "colab": {
          "base_uri": "https://localhost:8080/"
        },
        "id": "HFEKA9y1FJ3R",
        "outputId": "45390334-89b5-4bf5-ce8e-907898833888"
      },
      "execution_count": 199,
      "outputs": [
        {
          "output_type": "execute_result",
          "data": {
            "text/plain": [
              "Male      14228\n",
              "Female     3190\n",
              "Name: sex, dtype: int64"
            ]
          },
          "metadata": {},
          "execution_count": 199
        }
      ]
    },
    {
      "cell_type": "code",
      "source": [
        "data2[\"age_cat\"].value_counts()"
      ],
      "metadata": {
        "colab": {
          "base_uri": "https://localhost:8080/"
        },
        "id": "T5O2jJ9kEhC2",
        "outputId": "efe2a9d1-8895-4ca9-8209-61771af7c29f"
      },
      "execution_count": 200,
      "outputs": [
        {
          "output_type": "execute_result",
          "data": {
            "text/plain": [
              "25 - 45            9929\n",
              "Less than 25       4060\n",
              "Greater than 45    3429\n",
              "Name: age_cat, dtype: int64"
            ]
          },
          "metadata": {},
          "execution_count": 200
        }
      ]
    },
    {
      "cell_type": "code",
      "source": [
        "data2[\"race\"].value_counts()"
      ],
      "metadata": {
        "colab": {
          "base_uri": "https://localhost:8080/"
        },
        "id": "latStzxXFWSh",
        "outputId": "6e3e16e1-2141-4bb5-bdc3-cc273dbf245f"
      },
      "execution_count": 201,
      "outputs": [
        {
          "output_type": "execute_result",
          "data": {
            "text/plain": [
              "African-American    9387\n",
              "Caucasian           5748\n",
              "Hispanic            1347\n",
              "Other                823\n",
              "Asian                 64\n",
              "Native American       49\n",
              "Name: race, dtype: int64"
            ]
          },
          "metadata": {},
          "execution_count": 201
        }
      ]
    },
    {
      "cell_type": "code",
      "source": [
        "data2[\"c_charge_degree\"].value_counts()"
      ],
      "metadata": {
        "colab": {
          "base_uri": "https://localhost:8080/"
        },
        "id": "bI57e0WrFdx8",
        "outputId": "dc0450f4-d17b-4d1f-ebbd-c36a8779163f"
      },
      "execution_count": 202,
      "outputs": [
        {
          "output_type": "execute_result",
          "data": {
            "text/plain": [
              "(F3)     10270\n",
              "(M1)      3676\n",
              "(F2)      1503\n",
              "(M2)      1283\n",
              "(F1)       297\n",
              "(F7)       184\n",
              "(MO3)      154\n",
              "(NI0)       15\n",
              "(F6)        15\n",
              "(F5)        13\n",
              "(CO3)        6\n",
              "(CT)         1\n",
              "(TCX)        1\n",
              "Name: c_charge_degree, dtype: int64"
            ]
          },
          "metadata": {},
          "execution_count": 202
        }
      ]
    },
    {
      "cell_type": "code",
      "source": [
        "data2[\"act(accusation)\"].value_counts()"
      ],
      "metadata": {
        "colab": {
          "base_uri": "https://localhost:8080/"
        },
        "id": "M8ODOh2sFl7R",
        "outputId": "ccb5968d-d9d0-41af-fe05-3d61390de95e"
      },
      "execution_count": 203,
      "outputs": [
        {
          "output_type": "execute_result",
          "data": {
            "text/plain": [
              "arrest case no charge             3084\n",
              "Battery                           2181\n",
              "Possession of Cocaine             1431\n",
              "Grand Theft in the 3rd Degree     1191\n",
              "Driving While License Revoked      484\n",
              "                                  ... \n",
              "Interfere W/Traf Cont Dev RR         1\n",
              "Simulation of Legal Process          1\n",
              "Murder in 2nd Degree                 1\n",
              "Fail Sex Offend Report Bylaw         1\n",
              "Lewd/Lasciv Molest Elder Persn       1\n",
              "Name: act(accusation), Length: 513, dtype: int64"
            ]
          },
          "metadata": {},
          "execution_count": 203
        }
      ]
    },
    {
      "cell_type": "code",
      "source": [
        "data2[\"type_of_assessment\"].value_counts()"
      ],
      "metadata": {
        "colab": {
          "base_uri": "https://localhost:8080/"
        },
        "id": "cPgwHmCrFmKC",
        "outputId": "34c75dcd-88dc-4b3d-d045-725b015dbbb3"
      },
      "execution_count": 204,
      "outputs": [
        {
          "output_type": "execute_result",
          "data": {
            "text/plain": [
              "Risk of Recidivism    17418\n",
              "Name: type_of_assessment, dtype: int64"
            ]
          },
          "metadata": {},
          "execution_count": 204
        }
      ]
    },
    {
      "cell_type": "code",
      "source": [
        "data2[\"risk_score\"].value_counts()"
      ],
      "metadata": {
        "colab": {
          "base_uri": "https://localhost:8080/"
        },
        "id": "VmA2EeDwFmaZ",
        "outputId": "721923f6-8136-43bb-9529-40329fdf3a58"
      },
      "execution_count": 205,
      "outputs": [
        {
          "output_type": "execute_result",
          "data": {
            "text/plain": [
              "Low       8075\n",
              "Medium    4886\n",
              "High      4457\n",
              "Name: risk_score, dtype: int64"
            ]
          },
          "metadata": {},
          "execution_count": 205
        }
      ]
    },
    {
      "cell_type": "code",
      "source": [
        "data2[\"m_type_assessment\"].value_counts()"
      ],
      "metadata": {
        "colab": {
          "base_uri": "https://localhost:8080/"
        },
        "id": "fXeIZa7PFmpz",
        "outputId": "9675092a-290b-4d99-b6c1-9b5ed878ed5b"
      },
      "execution_count": 206,
      "outputs": [
        {
          "output_type": "execute_result",
          "data": {
            "text/plain": [
              "Risk of Violence    17418\n",
              "Name: m_type_assessment, dtype: int64"
            ]
          },
          "metadata": {},
          "execution_count": 206
        }
      ]
    },
    {
      "cell_type": "code",
      "source": [
        "data2[\"m_risk_score\"].value_counts()"
      ],
      "metadata": {
        "colab": {
          "base_uri": "https://localhost:8080/"
        },
        "id": "LCIvy26vGGnC",
        "outputId": "56972e11-3e7d-41a6-9213-ed7eafdee613"
      },
      "execution_count": 207,
      "outputs": [
        {
          "output_type": "execute_result",
          "data": {
            "text/plain": [
              "Low       10549\n",
              "Medium     4574\n",
              "High       2295\n",
              "Name: m_risk_score, dtype: int64"
            ]
          },
          "metadata": {},
          "execution_count": 207
        }
      ]
    },
    {
      "cell_type": "markdown",
      "source": [
        "*The columns \"type_of_assessment\" and \"m_type_assessment\" have only one kind of value, so it is better to remove those columns as they do not contribute to any decison making*"
      ],
      "metadata": {
        "id": "vs3PgO3WGYqu"
      }
    },
    {
      "cell_type": "code",
      "source": [
        "data2.drop(columns=[\"type_of_assessment\",\"m_type_assessment\"], inplace=True)"
      ],
      "metadata": {
        "id": "OlpGHEXZGTGJ"
      },
      "execution_count": 208,
      "outputs": []
    },
    {
      "cell_type": "markdown",
      "source": [
        "**Analysis of Data**"
      ],
      "metadata": {
        "id": "396hl7ECP5cy"
      }
    },
    {
      "cell_type": "code",
      "source": [
        "plt.figure(figsize=(8,5))\n",
        "sns.countplot(data=data2,x=\"sex\",hue=\"age_cat\",palette=\"Blues_r\")\n",
        "plt.title(\"Number of cases by sex and age\")\n",
        "plt.xlabel(\"\")\n",
        "# so only the graphic appears without any text referring to the object type.\n",
        "plt.show(block=False)"
      ],
      "metadata": {
        "colab": {
          "base_uri": "https://localhost:8080/",
          "height": 472
        },
        "id": "nXhgN-eMK3iV",
        "outputId": "d57fe980-e4b7-42fc-c092-e21fa675bfbf"
      },
      "execution_count": 209,
      "outputs": [
        {
          "output_type": "display_data",
          "data": {
            "text/plain": [
              "<Figure size 800x500 with 1 Axes>"
            ],
            "image/png": "[encoded data removed]"
          },
          "metadata": {}
        }
      ]
    },
    {
      "cell_type": "code",
      "source": [
        "decile_mean_age = data2.groupby(\"age_cat\")[\"decile_score\"].mean().reset_index()\n",
        "sns.barplot(data=decile_mean_age,x=\"age_cat\",y=\"decile_score\",palette=\"deep\")\n",
        "plt.ylabel(\"Decile score mean\")\n",
        "plt.xlabel(\"\")\n",
        "plt.title(\"Mean decile score by age range\")\n",
        "# so only the graphic appears without any text referring to the object type.\n",
        "plt.show(block=False)"
      ],
      "metadata": {
        "colab": {
          "base_uri": "https://localhost:8080/",
          "height": 457
        },
        "id": "psE_6hozLJtE",
        "outputId": "d898875c-13d6-47db-935d-bc541330f73e"
      },
      "execution_count": 210,
      "outputs": [
        {
          "output_type": "display_data",
          "data": {
            "text/plain": [
              "<Figure size 640x480 with 1 Axes>"
            ],
            "image/png": "[encoded data removed]"
          },
          "metadata": {}
        }
      ]
    },
    {
      "cell_type": "code",
      "source": [
        "compas2 = data2.groupby([\"sex\",\"age_cat\"])[\"is_recid\"].mean().reset_index()\n",
        "\n",
        "plt.figure(figsize=(7,4))\n",
        "sns.barplot(data=compas2,x=\"age_cat\",y=\"is_recid\",hue=\"sex\",palette=\"dark\")\n",
        "plt.title(\"Mean recidivism by age and sex\")\n",
        "plt.xlabel(\"\")\n",
        "plt.ylabel(\"recidivism rate\")\n",
        "plt.axhline(y=0.34,color=\"red\")\n",
        "plt.text(x=1.93,y=0.32,s=\"is_recid,s mean\")\n",
        "# so only the graphic appears without any text referring to the object type.\n",
        "plt.show(block=False)"
      ],
      "metadata": {
        "colab": {
          "base_uri": "https://localhost:8080/",
          "height": 395
        },
        "id": "bFZpJAflQAnK",
        "outputId": "9c7ac828-0b62-43a3-ada2-a94f15e33a6f"
      },
      "execution_count": 211,
      "outputs": [
        {
          "output_type": "display_data",
          "data": {
            "text/plain": [
              "<Figure size 700x400 with 1 Axes>"
            ],
            "image/png": "[encoded data removed]"
          },
          "metadata": {}
        }
      ]
    },
    {
      "cell_type": "code",
      "source": [
        "compas3 = data2[\"race\"].value_counts(normalize=True,ascending=False).reset_index()\n",
        "\n",
        "plt.figure(figsize=(8,4))\n",
        "sns.barplot(x=compas3[\"index\"],y=compas3[\"race\"],palette=\"Blues_r\")\n",
        "plt.xticks(rotation=45)\n",
        "plt.xlabel(\"\")\n",
        "plt.ylabel(\"percentage of cases\")\n",
        "plt.title(\"Percentage of cases by race\")\n",
        "# so only the graphic appears without any text referring to the object type.\n",
        "plt.show(block=False)"
      ],
      "metadata": {
        "colab": {
          "base_uri": "https://localhost:8080/",
          "height": 484
        },
        "id": "eZQ3HM4oRdWy",
        "outputId": "ed8f5834-ab79-4364-914c-f516e9203700"
      },
      "execution_count": 212,
      "outputs": [
        {
          "output_type": "display_data",
          "data": {
            "text/plain": [
              "<Figure size 800x400 with 1 Axes>"
            ],
            "image/png": "[encoded data removed]"
          },
          "metadata": {}
        }
      ]
    },
    {
      "cell_type": "code",
      "source": [
        "import seaborn as sns\n",
        "import matplotlib.pyplot as plt\n",
        "\n",
        "# Assuming 'data2' is your DataFrame\n",
        "plt.figure(figsize=(10, 6))\n",
        "sns.boxplot(data=data2, x=\"race\", y=\"decile_score\", palette=\"Blues\")\n",
        "plt.title(\"Decile Scores by Race\")\n",
        "plt.xlabel(\"Race\")\n",
        "plt.ylabel(\"Decile Score\")\n",
        "plt.show()\n"
      ],
      "metadata": {
        "colab": {
          "base_uri": "https://localhost:8080/",
          "height": 573
        },
        "id": "mYoYv5iP7GKD",
        "outputId": "96a938fe-3c50-4eb9-ac90-1c80d1bf925a"
      },
      "execution_count": 213,
      "outputs": [
        {
          "output_type": "display_data",
          "data": {
            "text/plain": [
              "<Figure size 1000x600 with 1 Axes>"
            ],
            "image/png": "[encoded data removed]"
          },
          "metadata": {}
        }
      ]
    },
    {
      "cell_type": "code",
      "source": [
        "import matplotlib.pyplot as plt\n",
        "\n",
        "# Create subplots to compare distributions side by side\n",
        "plt.figure(figsize=(12, 6))\n",
        "\n",
        "# Histogram for 'decile_score' by race\n",
        "plt.subplot(2, 2, 2)\n",
        "plt.hist(data2[data2['race'] == 'African-American']['decile_score'], color='blue', alpha=0.5, label='BlaAfrican-Americanck')\n",
        "plt.hist(data2[data2['race'] != 'African-American']['decile_score'], color='red', alpha=0.5, label='Others')\n",
        "plt.title(\"Comparison of Decile Score by Race\")\n",
        "plt.xlabel(\"Decile Score\")\n",
        "plt.ylabel(\"Count\")\n",
        "plt.legend()\n",
        "\n",
        "# Add more subplots for additional comparisons with different columns\n",
        "\n",
        "plt.show()\n"
      ],
      "metadata": {
        "colab": {
          "base_uri": "https://localhost:8080/",
          "height": 321
        },
        "id": "hokFKi0fGmGR",
        "outputId": "6832a306-55ed-4ec7-e6cd-a13d7d915691"
      },
      "execution_count": 214,
      "outputs": [
        {
          "output_type": "display_data",
          "data": {
            "text/plain": [
              "<Figure size 1200x600 with 1 Axes>"
            ],
            "image/png": "[encoded data removed]"
          },
          "metadata": {}
        }
      ]
    },
    {
      "cell_type": "markdown",
      "source": [
        "**Exploratory Data Analysis**"
      ],
      "metadata": {
        "id": "8d1jkSHBg4AN"
      }
    },
    {
      "cell_type": "markdown",
      "source": [
        "**Risk of Recidivism**"
      ],
      "metadata": {
        "id": "zVRMxJOqOGPt"
      }
    },
    {
      "cell_type": "code",
      "source": [
        "# filter dplyr warnings\n",
        "%load_ext rpy2.ipython\n",
        "import warnings\n",
        "warnings.filterwarnings('ignore')"
      ],
      "metadata": {
        "colab": {
          "base_uri": "https://localhost:8080/"
        },
        "id": "Bkj1B9dcOCVK",
        "outputId": "e3a1db04-e980-4279-b656-9218718bd6e0"
      },
      "execution_count": 215,
      "outputs": [
        {
          "output_type": "stream",
          "name": "stdout",
          "text": [
            "The rpy2.ipython extension is already loaded. To reload it, use:\n",
            "  %reload_ext rpy2.ipython\n"
          ]
        }
      ]
    },
    {
      "cell_type": "code",
      "source": [
        "%%R\n",
        "library(dplyr)\n",
        "library(ggplot2)\n",
        "raw_data <- read.csv(\"/content/drive/MyDrive/Data Mining Project/compas-scores-two-years.csv\")\n",
        "nrow(raw_data)"
      ],
      "metadata": {
        "colab": {
          "base_uri": "https://localhost:8080/"
        },
        "id": "-OfBaFFjOJpB",
        "outputId": "c01e8c4e-a552-4804-e739-5851f1fafb13"
      },
      "execution_count": 216,
      "outputs": [
        {
          "output_type": "stream",
          "name": "stdout",
          "text": [
            "[1] 7214\n"
          ]
        }
      ]
    },
    {
      "cell_type": "code",
      "source": [
        "%%R\n",
        "df <- dplyr::select(raw_data, age, c_charge_degree, race, age_cat, score_text, sex, priors_count,\n",
        "                    days_b_screening_arrest, decile_score, is_recid, two_year_recid, c_jail_in, c_jail_out) %>%\n",
        "        filter(days_b_screening_arrest <= 30) %>%\n",
        "        filter(days_b_screening_arrest >= -30) %>%\n",
        "        filter(is_recid != -1) %>%\n",
        "        filter(c_charge_degree != \"O\") %>%\n",
        "        filter(score_text != 'N/A')\n",
        "nrow(df)"
      ],
      "metadata": {
        "id": "NpcbwXKhOLsR",
        "colab": {
          "base_uri": "https://localhost:8080/"
        },
        "outputId": "7d247909-36fc-4f0e-d69a-593ead56a092"
      },
      "execution_count": 217,
      "outputs": [
        {
          "output_type": "stream",
          "name": "stdout",
          "text": [
            "[1] 6172\n"
          ]
        }
      ]
    },
    {
      "cell_type": "code",
      "source": [
        "%%R\n",
        "df$length_of_stay <- as.numeric(as.Date(df$c_jail_out) - as.Date(df$c_jail_in))\n",
        "cor(df$length_of_stay, df$decile_score)"
      ],
      "metadata": {
        "colab": {
          "base_uri": "https://localhost:8080/"
        },
        "id": "YsYc4Li4O_3b",
        "outputId": "c4acfea4-7156-442b-ce7a-ebc3bf40f50c"
      },
      "execution_count": 218,
      "outputs": [
        {
          "output_type": "stream",
          "name": "stdout",
          "text": [
            "[1] 0.2073297\n"
          ]
        }
      ]
    },
    {
      "cell_type": "code",
      "source": [
        "%%R\n",
        "summary(df$age_cat)"
      ],
      "metadata": {
        "colab": {
          "base_uri": "https://localhost:8080/"
        },
        "id": "8qNn-JXZPC-_",
        "outputId": "2823e2a2-ac44-4c93-9ad1-c4d3fccb71e7"
      },
      "execution_count": 219,
      "outputs": [
        {
          "output_type": "stream",
          "name": "stdout",
          "text": [
            "   Length     Class      Mode \n",
            "     6172 character character \n"
          ]
        }
      ]
    },
    {
      "cell_type": "code",
      "source": [
        "%%R\n",
        "summary(df$race)"
      ],
      "metadata": {
        "colab": {
          "base_uri": "https://localhost:8080/"
        },
        "id": "BvQSNnSqPFDb",
        "outputId": "b6cfb856-b5c4-4246-c424-f04f8a1148fc"
      },
      "execution_count": 220,
      "outputs": [
        {
          "output_type": "stream",
          "name": "stdout",
          "text": [
            "   Length     Class      Mode \n",
            "     6172 character character \n"
          ]
        }
      ]
    },
    {
      "cell_type": "code",
      "source": [
        "print(\"Black defendants: %.2f%%\" %            (3175 / 6172 * 100))\n",
        "print(\"White defendants: %.2f%%\" %            (2103 / 6172 * 100))\n",
        "print(\"Hispanic defendants: %.2f%%\" %         (509  / 6172 * 100))\n",
        "print(\"Asian defendants: %.2f%%\" %            (31   / 6172 * 100))\n",
        "print(\"Native American defendants: %.2f%%\" %  (11   / 6172 * 100))"
      ],
      "metadata": {
        "colab": {
          "base_uri": "https://localhost:8080/"
        },
        "id": "IPIWw7ORPUNu",
        "outputId": "f6fc5638-d310-4bb8-a258-bc545ada1f0c"
      },
      "execution_count": 221,
      "outputs": [
        {
          "output_type": "stream",
          "name": "stdout",
          "text": [
            "Black defendants: 51.44%\n",
            "White defendants: 34.07%\n",
            "Hispanic defendants: 8.25%\n",
            "Asian defendants: 0.50%\n",
            "Native American defendants: 0.18%\n"
          ]
        }
      ]
    },
    {
      "cell_type": "code",
      "source": [
        "%%R\n",
        "summary(df$score_text)"
      ],
      "metadata": {
        "colab": {
          "base_uri": "https://localhost:8080/"
        },
        "id": "WgoZZyfpPUQv",
        "outputId": "bba47933-73fa-477d-9699-58cb2a7baa0f"
      },
      "execution_count": 222,
      "outputs": [
        {
          "output_type": "stream",
          "name": "stdout",
          "text": [
            "   Length     Class      Mode \n",
            "     6172 character character \n"
          ]
        }
      ]
    },
    {
      "cell_type": "code",
      "source": [
        "%%R\n",
        "xtabs(~ sex + race, data=df)"
      ],
      "metadata": {
        "colab": {
          "base_uri": "https://localhost:8080/"
        },
        "id": "P2ytabriPUTk",
        "outputId": "62fab89f-9ab3-42ed-f9cb-e2fa2158e0be"
      },
      "execution_count": 223,
      "outputs": [
        {
          "output_type": "stream",
          "name": "stdout",
          "text": [
            "        race\n",
            "sex      African-American Asian Caucasian Hispanic Native American Other\n",
            "  Female              549     2       482       82               2    58\n",
            "  Male               2626    29      1621      427               9   285\n"
          ]
        }
      ]
    },
    {
      "cell_type": "code",
      "source": [
        "%%R\n",
        "summary(df$sex)"
      ],
      "metadata": {
        "colab": {
          "base_uri": "https://localhost:8080/"
        },
        "id": "3uS_Cjr7PUXI",
        "outputId": "df55da66-f1b7-4213-a175-a3023333a023"
      },
      "execution_count": 224,
      "outputs": [
        {
          "output_type": "stream",
          "name": "stdout",
          "text": [
            "   Length     Class      Mode \n",
            "     6172 character character \n"
          ]
        }
      ]
    },
    {
      "cell_type": "code",
      "source": [
        "%%R\n",
        "install.packages(\"gridExtra\", repos=\"https://cran.r-project.org\")\n"
      ],
      "metadata": {
        "colab": {
          "base_uri": "https://localhost:8080/"
        },
        "id": "xWtjIoBiPlMi",
        "outputId": "722445c4-3e33-4d0c-8315-b1d0969ad1ae"
      },
      "execution_count": 225,
      "outputs": [
        {
          "output_type": "stream",
          "name": "stderr",
          "text": [
            "WARNING:rpy2.rinterface_lib.callbacks:R[write to console]: Installing package into ‘/usr/local/lib/R/site-library’\n",
            "(as ‘lib’ is unspecified)\n",
            "\n",
            "WARNING:rpy2.rinterface_lib.callbacks:R[write to console]: trying URL 'https://cran.r-project.org/src/contrib/gridExtra_2.3.tar.gz'\n",
            "\n",
            "WARNING:rpy2.rinterface_lib.callbacks:R[write to console]: Content type 'application/x-gzip'\n",
            "WARNING:rpy2.rinterface_lib.callbacks:R[write to console]:  length 1062844 bytes (1.0 MB)\n",
            "\n",
            "WARNING:rpy2.rinterface_lib.callbacks:R[write to console]: =\n",
            "WARNING:rpy2.rinterface_lib.callbacks:R[write to console]: =\n",
            "WARNING:rpy2.rinterface_lib.callbacks:R[write to console]: =\n",
            "WARNING:rpy2.rinterface_lib.callbacks:R[write to console]: =\n",
            "WARNING:rpy2.rinterface_lib.callbacks:R[write to console]: =\n",
            "WARNING:rpy2.rinterface_lib.callbacks:R[write to console]: =\n",
            "WARNING:rpy2.rinterface_lib.callbacks:R[write to console]: =\n",
            "WARNING:rpy2.rinterface_lib.callbacks:R[write to console]: =\n",
            "WARNING:rpy2.rinterface_lib.callbacks:R[write to console]: =\n",
            "WARNING:rpy2.rinterface_lib.callbacks:R[write to console]: =\n",
            "WARNING:rpy2.rinterface_lib.callbacks:R[write to console]: =\n",
            "WARNING:rpy2.rinterface_lib.callbacks:R[write to console]: =\n",
            "WARNING:rpy2.rinterface_lib.callbacks:R[write to console]: =\n",
            "WARNING:rpy2.rinterface_lib.callbacks:R[write to console]: =\n",
            "WARNING:rpy2.rinterface_lib.callbacks:R[write to console]: =\n",
            "WARNING:rpy2.rinterface_lib.callbacks:R[write to console]: =\n",
            "WARNING:rpy2.rinterface_lib.callbacks:R[write to console]: =\n",
            "WARNING:rpy2.rinterface_lib.callbacks:R[write to console]: =\n",
            "WARNING:rpy2.rinterface_lib.callbacks:R[write to console]: =\n",
            "WARNING:rpy2.rinterface_lib.callbacks:R[write to console]: =\n",
            "WARNING:rpy2.rinterface_lib.callbacks:R[write to console]: =\n",
            "WARNING:rpy2.rinterface_lib.callbacks:R[write to console]: =\n",
            "WARNING:rpy2.rinterface_lib.callbacks:R[write to console]: =\n",
            "WARNING:rpy2.rinterface_lib.callbacks:R[write to console]: =\n",
            "WARNING:rpy2.rinterface_lib.callbacks:R[write to console]: =\n",
            "WARNING:rpy2.rinterface_lib.callbacks:R[write to console]: =\n",
            "WARNING:rpy2.rinterface_lib.callbacks:R[write to console]: =\n",
            "WARNING:rpy2.rinterface_lib.callbacks:R[write to console]: =\n",
            "WARNING:rpy2.rinterface_lib.callbacks:R[write to console]: =\n",
            "WARNING:rpy2.rinterface_lib.callbacks:R[write to console]: =\n",
            "WARNING:rpy2.rinterface_lib.callbacks:R[write to console]: =\n",
            "WARNING:rpy2.rinterface_lib.callbacks:R[write to console]: =\n",
            "WARNING:rpy2.rinterface_lib.callbacks:R[write to console]: =\n",
            "WARNING:rpy2.rinterface_lib.callbacks:R[write to console]: =\n",
            "WARNING:rpy2.rinterface_lib.callbacks:R[write to console]: =\n",
            "WARNING:rpy2.rinterface_lib.callbacks:R[write to console]: =\n",
            "WARNING:rpy2.rinterface_lib.callbacks:R[write to console]: =\n",
            "WARNING:rpy2.rinterface_lib.callbacks:R[write to console]: =\n",
            "WARNING:rpy2.rinterface_lib.callbacks:R[write to console]: =\n",
            "WARNING:rpy2.rinterface_lib.callbacks:R[write to console]: =\n",
            "WARNING:rpy2.rinterface_lib.callbacks:R[write to console]: =\n",
            "WARNING:rpy2.rinterface_lib.callbacks:R[write to console]: =\n",
            "WARNING:rpy2.rinterface_lib.callbacks:R[write to console]: =\n",
            "WARNING:rpy2.rinterface_lib.callbacks:R[write to console]: =\n",
            "WARNING:rpy2.rinterface_lib.callbacks:R[write to console]: =\n",
            "WARNING:rpy2.rinterface_lib.callbacks:R[write to console]: =\n",
            "WARNING:rpy2.rinterface_lib.callbacks:R[write to console]: =\n",
            "WARNING:rpy2.rinterface_lib.callbacks:R[write to console]: =\n",
            "WARNING:rpy2.rinterface_lib.callbacks:R[write to console]: =\n",
            "WARNING:rpy2.rinterface_lib.callbacks:R[write to console]: =\n",
            "WARNING:rpy2.rinterface_lib.callbacks:R[write to console]: \n",
            "\n",
            "WARNING:rpy2.rinterface_lib.callbacks:R[write to console]: downloaded 1.0 MB\n",
            "\n",
            "\n",
            "WARNING:rpy2.rinterface_lib.callbacks:R[write to console]: \n",
            "\n",
            "WARNING:rpy2.rinterface_lib.callbacks:R[write to console]: \n",
            "WARNING:rpy2.rinterface_lib.callbacks:R[write to console]: The downloaded source packages are in\n",
            "\t‘/tmp/Rtmp4ENpWw/downloaded_packages’\n",
            "WARNING:rpy2.rinterface_lib.callbacks:R[write to console]: \n",
            "WARNING:rpy2.rinterface_lib.callbacks:R[write to console]: \n",
            "\n"
          ]
        }
      ]
    },
    {
      "cell_type": "code",
      "source": [
        "%%R -w 900 -h 363 -u px\n",
        "library(grid)\n",
        "library(gridExtra)\n",
        "pblack <- ggplot(data=filter(df, race ==\"African-American\"), aes(ordered(decile_score))) +\n",
        "          geom_bar() + xlab(\"Decile Score\") +\n",
        "          ylim(0, 650) + ggtitle(\"Black Defendant's Decile Scores\")\n",
        "pwhite <- ggplot(data=filter(df, race ==\"Caucasian\"), aes(ordered(decile_score))) +\n",
        "          geom_bar() + xlab(\"Decile Score\") +\n",
        "          ylim(0, 650) + ggtitle(\"White Defendant's Decile Scores\")\n",
        "grid.arrange(pblack, pwhite,  ncol = 2)"
      ],
      "metadata": {
        "colab": {
          "base_uri": "https://localhost:8080/",
          "height": 380
        },
        "id": "HAqigfVjPHW3",
        "outputId": "dfe41905-cc24-4fb0-d85a-13577c6fcbf9"
      },
      "execution_count": 226,
      "outputs": [
        {
          "output_type": "display_data",
          "data": {
            "image/png": "[encoded data removed]"
          },
          "metadata": {}
        }
      ]
    },
    {
      "cell_type": "code",
      "source": [
        "%%R\n",
        "df <- mutate(df, crime_factor = factor(c_charge_degree)) %>%\n",
        "      mutate(age_factor = as.factor(age_cat)) %>%\n",
        "      within(age_factor <- relevel(age_factor, ref = 1)) %>%\n",
        "      mutate(race_factor = factor(race)) %>%\n",
        "      within(race_factor <- relevel(race_factor, ref = 3)) %>%\n",
        "      mutate(gender_factor = factor(sex, labels= c(\"Female\",\"Male\"))) %>%\n",
        "      within(gender_factor <- relevel(gender_factor, ref = 2)) %>%\n",
        "      mutate(score_factor = factor(score_text != \"Low\", labels = c(\"LowScore\",\"HighScore\")))\n",
        "model <- glm(score_factor ~ gender_factor + age_factor + race_factor +\n",
        "                            priors_count + crime_factor + two_year_recid, family=\"binomial\", data=df)\n",
        "summary(model)"
      ],
      "metadata": {
        "colab": {
          "base_uri": "https://localhost:8080/"
        },
        "id": "w8J86Y-QPMmb",
        "outputId": "fbe0471f-0bae-4bb5-b5d2-aec49843f833"
      },
      "execution_count": 227,
      "outputs": [
        {
          "output_type": "stream",
          "name": "stdout",
          "text": [
            "\n",
            "Call:\n",
            "glm(formula = score_factor ~ gender_factor + age_factor + race_factor + \n",
            "    priors_count + crime_factor + two_year_recid, family = \"binomial\", \n",
            "    data = df)\n",
            "\n",
            "Coefficients:\n",
            "                            Estimate Std. Error z value Pr(>|z|)    \n",
            "(Intercept)                 -1.52554    0.07851 -19.430  < 2e-16 ***\n",
            "gender_factorFemale          0.22127    0.07951   2.783 0.005388 ** \n",
            "age_factorGreater than 45   -1.35563    0.09908 -13.682  < 2e-16 ***\n",
            "age_factorLess than 25       1.30839    0.07593  17.232  < 2e-16 ***\n",
            "race_factorAfrican-American  0.47721    0.06935   6.881 5.93e-12 ***\n",
            "race_factorAsian            -0.25441    0.47821  -0.532 0.594717    \n",
            "race_factorHispanic         -0.42839    0.12813  -3.344 0.000827 ***\n",
            "race_factorNative American   1.39421    0.76612   1.820 0.068784 .  \n",
            "race_factorOther            -0.82635    0.16208  -5.098 3.43e-07 ***\n",
            "priors_count                 0.26895    0.01110  24.221  < 2e-16 ***\n",
            "crime_factorM               -0.31124    0.06655  -4.677 2.91e-06 ***\n",
            "two_year_recid               0.68586    0.06402  10.713  < 2e-16 ***\n",
            "---\n",
            "Signif. codes:  0 ‘***’ 0.001 ‘**’ 0.01 ‘*’ 0.05 ‘.’ 0.1 ‘ ’ 1\n",
            "\n",
            "(Dispersion parameter for binomial family taken to be 1)\n",
            "\n",
            "    Null deviance: 8483.3  on 6171  degrees of freedom\n",
            "Residual deviance: 6168.4  on 6160  degrees of freedom\n",
            "AIC: 6192.4\n",
            "\n",
            "Number of Fisher Scoring iterations: 5\n",
            "\n"
          ]
        }
      ]
    },
    {
      "cell_type": "code",
      "source": [
        "%%R\n",
        "control <- exp(-1.52554) / (1 + exp(-1.52554))\n",
        "exp(0.47721) / (1 - control + (control * exp(0.47721)))"
      ],
      "metadata": {
        "colab": {
          "base_uri": "https://localhost:8080/"
        },
        "id": "YxxVhYinRwFT",
        "outputId": "c5f345a6-c918-4be1-8881-bd0bb796a4e4"
      },
      "execution_count": 228,
      "outputs": [
        {
          "output_type": "stream",
          "name": "stdout",
          "text": [
            "[1] 1.452841\n"
          ]
        }
      ]
    },
    {
      "cell_type": "markdown",
      "source": [
        "*Compared to white defendants, black defendants have a 45% higher likelihood of receiving a higher score that accounts for the severity of their offense, prior arrests, and potential future criminal behavior.*"
      ],
      "metadata": {
        "id": "A5nShWkkRxc3"
      }
    },
    {
      "cell_type": "code",
      "source": [
        "%%R\n",
        "exp(0.22127) / (1 - control + (control * exp(0.22127)))"
      ],
      "metadata": {
        "colab": {
          "base_uri": "https://localhost:8080/"
        },
        "id": "pLKit4fQQRab",
        "outputId": "4762d333-3229-4170-c7cd-06373aa7148b"
      },
      "execution_count": 229,
      "outputs": [
        {
          "output_type": "stream",
          "name": "stdout",
          "text": [
            "[1] 1.194798\n"
          ]
        }
      ]
    },
    {
      "cell_type": "markdown",
      "source": [
        "*19.4% more women than men are likely to receive a higher grade*"
      ],
      "metadata": {
        "id": "W-Qko9OiSAb8"
      }
    },
    {
      "cell_type": "code",
      "source": [
        "%%R\n",
        "exp(1.30839) / (1 - control + (control * exp(1.30839)))"
      ],
      "metadata": {
        "colab": {
          "base_uri": "https://localhost:8080/"
        },
        "id": "Jyw69X5bQ8U7",
        "outputId": "86fb041e-b690-4366-a606-9b62ecce3c9d"
      },
      "execution_count": 230,
      "outputs": [
        {
          "output_type": "stream",
          "name": "stdout",
          "text": [
            "[1] 2.49612\n"
          ]
        }
      ]
    },
    {
      "cell_type": "markdown",
      "source": [
        "*people under 25 are 2.5 times as likely to get a higher score as middle aged defendants.*"
      ],
      "metadata": {
        "id": "6DQqP_LFSRjb"
      }
    },
    {
      "cell_type": "markdown",
      "source": [
        "**Risk of Violent Recidivism**"
      ],
      "metadata": {
        "id": "uLdfwuGPTO3L"
      }
    },
    {
      "cell_type": "code",
      "source": [
        "%%R\n",
        "raw_data <- read.csv(\"/content/drive/MyDrive/Data Mining Project/compas-scores-two-years-violent.csv\")\n",
        "nrow(raw_data)"
      ],
      "metadata": {
        "id": "PB1yCAtFSP2c",
        "colab": {
          "base_uri": "https://localhost:8080/"
        },
        "outputId": "c1d6c354-f7a7-4f65-f298-2eb8f6320bb0"
      },
      "execution_count": 231,
      "outputs": [
        {
          "output_type": "stream",
          "name": "stdout",
          "text": [
            "[1] 4743\n"
          ]
        }
      ]
    },
    {
      "cell_type": "code",
      "source": [
        "%%R\n",
        "df <- dplyr::select(raw_data, age, c_charge_degree, race, age_cat, v_score_text, sex, priors_count,\n",
        "                    days_b_screening_arrest, v_decile_score, is_recid, two_year_recid) %>%\n",
        "        filter(days_b_screening_arrest <= 30) %>%\n",
        "        filter(days_b_screening_arrest >= -30) %>%\n",
        "        filter(is_recid != -1) %>%\n",
        "        filter(c_charge_degree != \"O\") %>%\n",
        "        filter(v_score_text != 'N/A')\n",
        "nrow(df)"
      ],
      "metadata": {
        "colab": {
          "base_uri": "https://localhost:8080/"
        },
        "id": "KwGYD8rMUPCz",
        "outputId": "fda51ce6-2e92-4f5b-9de1-9968cb17594a"
      },
      "execution_count": 232,
      "outputs": [
        {
          "output_type": "stream",
          "name": "stdout",
          "text": [
            "[1] 4020\n"
          ]
        }
      ]
    },
    {
      "cell_type": "code",
      "source": [
        "%%R -w 900 -h 363 -u px\n",
        "library(grid)\n",
        "library(gridExtra)\n",
        "pblack <- ggplot(data=filter(df, race ==\"African-American\"), aes(ordered(v_decile_score))) +\n",
        "          geom_bar() + xlab(\"Violent Decile Score\") +\n",
        "          ylim(0, 700) + ggtitle(\"Black Defendant's Violent Decile Scores\")\n",
        "pwhite <- ggplot(data=filter(df, race ==\"Caucasian\"), aes(ordered(v_decile_score))) +\n",
        "          geom_bar() + xlab(\"Violent Decile Score\") +\n",
        "          ylim(0, 700) + ggtitle(\"White Defendant's Violent Decile Scores\")\n",
        "grid.arrange(pblack, pwhite,  ncol = 2)"
      ],
      "metadata": {
        "colab": {
          "base_uri": "https://localhost:8080/",
          "height": 380
        },
        "id": "NTS12g_9UYtr",
        "outputId": "b246fe55-4cb6-45a3-e0c5-9cd56c4c2fe4"
      },
      "execution_count": 233,
      "outputs": [
        {
          "output_type": "display_data",
          "data": {
            "image/png": "[encoded data removed]"
          },
          "metadata": {}
        }
      ]
    },
    {
      "cell_type": "code",
      "source": [
        "%%R\n",
        "df <- mutate(df, crime_factor = factor(c_charge_degree)) %>%\n",
        "      mutate(age_factor = as.factor(age_cat)) %>%\n",
        "      within(age_factor <- relevel(age_factor, ref = 1)) %>%\n",
        "      mutate(race_factor = factor(race,\n",
        "                                  labels = c(\"African-American\",\n",
        "                                             \"Asian\",\n",
        "                                             \"Caucasian\",\n",
        "                                             \"Hispanic\",\n",
        "                                             \"Native American\",\n",
        "                                             \"Other\"))) %>%\n",
        "      within(race_factor <- relevel(race_factor, ref = 3)) %>%\n",
        "      mutate(gender_factor = factor(sex, labels= c(\"Female\",\"Male\"))) %>%\n",
        "      within(gender_factor <- relevel(gender_factor, ref = 2)) %>%\n",
        "      mutate(score_factor = factor(v_score_text != \"Low\", labels = c(\"LowScore\",\"HighScore\")))\n",
        "model <- glm(score_factor ~ gender_factor + age_factor + race_factor +\n",
        "                            priors_count + crime_factor + two_year_recid, family=\"binomial\", data=df)\n",
        "summary(model)"
      ],
      "metadata": {
        "colab": {
          "base_uri": "https://localhost:8080/"
        },
        "id": "-T-1o3WOUgC0",
        "outputId": "e97b5adb-79c4-4bcb-fb1a-de1f978643a6"
      },
      "execution_count": 234,
      "outputs": [
        {
          "output_type": "stream",
          "name": "stdout",
          "text": [
            "\n",
            "Call:\n",
            "glm(formula = score_factor ~ gender_factor + age_factor + race_factor + \n",
            "    priors_count + crime_factor + two_year_recid, family = \"binomial\", \n",
            "    data = df)\n",
            "\n",
            "Coefficients:\n",
            "                            Estimate Std. Error z value Pr(>|z|)    \n",
            "(Intercept)                 -2.24274    0.11326 -19.802  < 2e-16 ***\n",
            "gender_factorFemale         -0.72890    0.12666  -5.755 8.66e-09 ***\n",
            "age_factorGreater than 45   -1.74208    0.18415  -9.460  < 2e-16 ***\n",
            "age_factorLess than 25       3.14591    0.11541  27.259  < 2e-16 ***\n",
            "race_factorAfrican-American  0.65893    0.10815   6.093 1.11e-09 ***\n",
            "race_factorAsian            -0.98521    0.70537  -1.397   0.1625    \n",
            "race_factorHispanic         -0.06416    0.19133  -0.335   0.7374    \n",
            "race_factorNative American   0.44793    1.03546   0.433   0.6653    \n",
            "race_factorOther            -0.20543    0.22464  -0.914   0.3605    \n",
            "priors_count                 0.13764    0.01161  11.854  < 2e-16 ***\n",
            "crime_factorM               -0.16367    0.09807  -1.669   0.0951 .  \n",
            "two_year_recid               0.93448    0.11527   8.107 5.20e-16 ***\n",
            "---\n",
            "Signif. codes:  0 ‘***’ 0.001 ‘**’ 0.01 ‘*’ 0.05 ‘.’ 0.1 ‘ ’ 1\n",
            "\n",
            "(Dispersion parameter for binomial family taken to be 1)\n",
            "\n",
            "    Null deviance: 4731.8  on 4019  degrees of freedom\n",
            "Residual deviance: 2998.8  on 4008  degrees of freedom\n",
            "AIC: 3022.8\n",
            "\n",
            "Number of Fisher Scoring iterations: 6\n",
            "\n"
          ]
        }
      ]
    },
    {
      "cell_type": "markdown",
      "source": [
        "*When compared to white offenders, the violent score overpredicts recidivism for black defendants by 77.3%.*"
      ],
      "metadata": {
        "id": "QH-TnmnBU3RV"
      }
    },
    {
      "cell_type": "code",
      "source": [
        "%%R\n",
        "control <- exp(-2.24274) / (1 + exp(-2.24274))\n",
        "exp(0.65893) / (1 - control + (control * exp(0.65893)))"
      ],
      "metadata": {
        "colab": {
          "base_uri": "https://localhost:8080/"
        },
        "id": "9pIp3xFoUlLI",
        "outputId": "97975f64-a489-4a54-e036-7ebb632619f8"
      },
      "execution_count": 235,
      "outputs": [
        {
          "output_type": "stream",
          "name": "stdout",
          "text": [
            "[1] 1.773921\n"
          ]
        }
      ]
    },
    {
      "cell_type": "markdown",
      "source": [
        "*Defendands under 25 are 7.4 times as likely to get a higher score as middle aged defendants.*"
      ],
      "metadata": {
        "id": "Bk1L2YaOVPYw"
      }
    },
    {
      "cell_type": "code",
      "source": [
        "data2.head()"
      ],
      "metadata": {
        "colab": {
          "base_uri": "https://localhost:8080/",
          "height": 313
        },
        "id": "T6QksxwX6FEr",
        "outputId": "95dcfb69-2643-49fd-ccde-5f4c04a2c77d"
      },
      "execution_count": 239,
      "outputs": [
        {
          "output_type": "execute_result",
          "data": {
            "text/plain": [
              "    sex  age          age_cat              race  decile_score  n_punished  \\\n",
              "0  Male   69  Greater than 45             Other             1           0   \n",
              "1  Male   69  Greater than 45             Other             1           0   \n",
              "3  Male   34          25 - 45  African-American             3           0   \n",
              "4  Male   24     Less than 25  African-American             4           4   \n",
              "5  Male   24     Less than 25  African-American             4           4   \n",
              "\n",
              "  c_charge_degree                 act(accusation)  decile_score_min  \\\n",
              "0            (F3)    Aggravated Assault w/Firearm                 1   \n",
              "1            (F3)    Aggravated Assault w/Firearm                 1   \n",
              "3            (F3)  Felony Battery w/Prior Convict                 3   \n",
              "4            (F3)           Possession of Cocaine                 4   \n",
              "5            (F3)           Possession of Cocaine                 4   \n",
              "\n",
              "  risk_score  m_decile_score m_risk_score  juv_fel_seriousness  is_recid  \\\n",
              "0        Low               1          Low                    0         0   \n",
              "1        Low               1          Low                    0         0   \n",
              "3        Low               1          Low                    0         1   \n",
              "4        Low               3          Low                    0         1   \n",
              "5        Low               3          Low                    0         1   \n",
              "\n",
              "   is_violent_recid  \n",
              "0                 0  \n",
              "1                 0  \n",
              "3                 1  \n",
              "4                 0  \n",
              "5                 0  "
            ],
            "text/html": [
              "\n",
              "  <div id=\"df-838732c7-d6d9-4e10-995c-b5a93729f1f5\" class=\"colab-df-container\">\n",
              "    <div>\n",
              "<style scoped>\n",
              "    .dataframe tbody tr th:only-of-type {\n",
              "        vertical-align: middle;\n",
              "    }\n",
              "\n",
              "    .dataframe tbody tr th {\n",
              "        vertical-align: top;\n",
              "    }\n",
              "\n",
              "    .dataframe thead th {\n",
              "        text-align: right;\n",
              "    }\n",
              "</style>\n",
              "<table border=\"1\" class=\"dataframe\">\n",
              "  <thead>\n",
              "    <tr style=\"text-align: right;\">\n",
              "      <th></th>\n",
              "      <th>sex</th>\n",
              "      <th>age</th>\n",
              "      <th>age_cat</th>\n",
              "      <th>race</th>\n",
              "      <th>decile_score</th>\n",
              "      <th>n_punished</th>\n",
              "      <th>c_charge_degree</th>\n",
              "      <th>act(accusation)</th>\n",
              "      <th>decile_score_min</th>\n",
              "      <th>risk_score</th>\n",
              "      <th>m_decile_score</th>\n",
              "      <th>m_risk_score</th>\n",
              "      <th>juv_fel_seriousness</th>\n",
              "      <th>is_recid</th>\n",
              "      <th>is_violent_recid</th>\n",
              "    </tr>\n",
              "  </thead>\n",
              "  <tbody>\n",
              "    <tr>\n",
              "      <th>0</th>\n",
              "      <td>Male</td>\n",
              "      <td>69</td>\n",
              "      <td>Greater than 45</td>\n",
              "      <td>Other</td>\n",
              "      <td>1</td>\n",
              "      <td>0</td>\n",
              "      <td>(F3)</td>\n",
              "      <td>Aggravated Assault w/Firearm</td>\n",
              "      <td>1</td>\n",
              "      <td>Low</td>\n",
              "      <td>1</td>\n",
              "      <td>Low</td>\n",
              "      <td>0</td>\n",
              "      <td>0</td>\n",
              "      <td>0</td>\n",
              "    </tr>\n",
              "    <tr>\n",
              "      <th>1</th>\n",
              "      <td>Male</td>\n",
              "      <td>69</td>\n",
              "      <td>Greater than 45</td>\n",
              "      <td>Other</td>\n",
              "      <td>1</td>\n",
              "      <td>0</td>\n",
              "      <td>(F3)</td>\n",
              "      <td>Aggravated Assault w/Firearm</td>\n",
              "      <td>1</td>\n",
              "      <td>Low</td>\n",
              "      <td>1</td>\n",
              "      <td>Low</td>\n",
              "      <td>0</td>\n",
              "      <td>0</td>\n",
              "      <td>0</td>\n",
              "    </tr>\n",
              "    <tr>\n",
              "      <th>3</th>\n",
              "      <td>Male</td>\n",
              "      <td>34</td>\n",
              "      <td>25 - 45</td>\n",
              "      <td>African-American</td>\n",
              "      <td>3</td>\n",
              "      <td>0</td>\n",
              "      <td>(F3)</td>\n",
              "      <td>Felony Battery w/Prior Convict</td>\n",
              "      <td>3</td>\n",
              "      <td>Low</td>\n",
              "      <td>1</td>\n",
              "      <td>Low</td>\n",
              "      <td>0</td>\n",
              "      <td>1</td>\n",
              "      <td>1</td>\n",
              "    </tr>\n",
              "    <tr>\n",
              "      <th>4</th>\n",
              "      <td>Male</td>\n",
              "      <td>24</td>\n",
              "      <td>Less than 25</td>\n",
              "      <td>African-American</td>\n",
              "      <td>4</td>\n",
              "      <td>4</td>\n",
              "      <td>(F3)</td>\n",
              "      <td>Possession of Cocaine</td>\n",
              "      <td>4</td>\n",
              "      <td>Low</td>\n",
              "      <td>3</td>\n",
              "      <td>Low</td>\n",
              "      <td>0</td>\n",
              "      <td>1</td>\n",
              "      <td>0</td>\n",
              "    </tr>\n",
              "    <tr>\n",
              "      <th>5</th>\n",
              "      <td>Male</td>\n",
              "      <td>24</td>\n",
              "      <td>Less than 25</td>\n",
              "      <td>African-American</td>\n",
              "      <td>4</td>\n",
              "      <td>4</td>\n",
              "      <td>(F3)</td>\n",
              "      <td>Possession of Cocaine</td>\n",
              "      <td>4</td>\n",
              "      <td>Low</td>\n",
              "      <td>3</td>\n",
              "      <td>Low</td>\n",
              "      <td>0</td>\n",
              "      <td>1</td>\n",
              "      <td>0</td>\n",
              "    </tr>\n",
              "  </tbody>\n",
              "</table>\n",
              "</div>\n",
              "    <div class=\"colab-df-buttons\">\n",
              "\n",
              "  <div class=\"colab-df-container\">\n",
              "    <button class=\"colab-df-convert\" onclick=\"convertToInteractive('df-838732c7-d6d9-4e10-995c-b5a93729f1f5')\"\n",
              "            title=\"Convert this dataframe to an interactive table.\"\n",
              "            style=\"display:none;\">\n",
              "\n",
              "  <svg xmlns=\"http://www.w3.org/2000/svg\" height=\"24px\" viewBox=\"0 -960 960 960\">\n",
              "    <path d=\"M120-120v-720h720v720H120Zm60-500h600v-160H180v160Zm220 220h160v-160H400v160Zm0 220h160v-160H400v160ZM180-400h160v-160H180v160Zm440 0h160v-160H620v160ZM180-180h160v-160H180v160Zm440 0h160v-160H620v160Z\"/>\n",
              "  </svg>\n",
              "    </button>\n",
              "\n",
              "  <style>\n",
              "    .colab-df-container {\n",
              "      display:flex;\n",
              "      gap: 12px;\n",
              "    }\n",
              "\n",
              "    .colab-df-convert {\n",
              "      background-color: #E8F0FE;\n",
              "      border: none;\n",
              "      border-radius: 50%;\n",
              "      cursor: pointer;\n",
              "      display: none;\n",
              "      fill: #1967D2;\n",
              "      height: 32px;\n",
              "      padding: 0 0 0 0;\n",
              "      width: 32px;\n",
              "    }\n",
              "\n",
              "    .colab-df-convert:hover {\n",
              "      background-color: #E2EBFA;\n",
              "      box-shadow: 0px 1px 2px rgba(60, 64, 67, 0.3), 0px 1px 3px 1px rgba(60, 64, 67, 0.15);\n",
              "      fill: #174EA6;\n",
              "    }\n",
              "\n",
              "    .colab-df-buttons div {\n",
              "      margin-bottom: 4px;\n",
              "    }\n",
              "\n",
              "    [theme=dark] .colab-df-convert {\n",
              "      background-color: #3B4455;\n",
              "      fill: #D2E3FC;\n",
              "    }\n",
              "\n",
              "    [theme=dark] .colab-df-convert:hover {\n",
              "      background-color: #434B5C;\n",
              "      box-shadow: 0px 1px 3px 1px rgba(0, 0, 0, 0.15);\n",
              "      filter: drop-shadow(0px 1px 2px rgba(0, 0, 0, 0.3));\n",
              "      fill: #FFFFFF;\n",
              "    }\n",
              "  </style>\n",
              "\n",
              "    <script>\n",
              "      const buttonEl =\n",
              "        document.querySelector('#df-838732c7-d6d9-4e10-995c-b5a93729f1f5 button.colab-df-convert');\n",
              "      buttonEl.style.display =\n",
              "        google.colab.kernel.accessAllowed ? 'block' : 'none';\n",
              "\n",
              "      async function convertToInteractive(key) {\n",
              "        const element = document.querySelector('#df-838732c7-d6d9-4e10-995c-b5a93729f1f5');\n",
              "        const dataTable =\n",
              "          await google.colab.kernel.invokeFunction('convertToInteractive',\n",
              "                                                    [key], {});\n",
              "        if (!dataTable) return;\n",
              "\n",
              "        const docLinkHtml = 'Like what you see? Visit the ' +\n",
              "          '<a target=\"_blank\" href=https://colab.research.google.com/notebooks/data_table.ipynb>data table notebook</a>'\n",
              "          + ' to learn more about interactive tables.';\n",
              "        element.innerHTML = '';\n",
              "        dataTable['output_type'] = 'display_data';\n",
              "        await google.colab.output.renderOutput(dataTable, element);\n",
              "        const docLink = document.createElement('div');\n",
              "        docLink.innerHTML = docLinkHtml;\n",
              "        element.appendChild(docLink);\n",
              "      }\n",
              "    </script>\n",
              "  </div>\n",
              "\n",
              "\n",
              "<div id=\"df-cf052e40-eb9d-4ff3-9888-ea79ca4663c0\">\n",
              "  <button class=\"colab-df-quickchart\" onclick=\"quickchart('df-cf052e40-eb9d-4ff3-9888-ea79ca4663c0')\"\n",
              "            title=\"Suggest charts.\"\n",
              "            style=\"display:none;\">\n",
              "\n",
              "<svg xmlns=\"http://www.w3.org/2000/svg\" height=\"24px\"viewBox=\"0 0 24 24\"\n",
              "     width=\"24px\">\n",
              "    <g>\n",
              "        <path d=\"M19 3H5c-1.1 0-2 .9-2 2v14c0 1.1.9 2 2 2h14c1.1 0 2-.9 2-2V5c0-1.1-.9-2-2-2zM9 17H7v-7h2v7zm4 0h-2V7h2v10zm4 0h-2v-4h2v4z\"/>\n",
              "    </g>\n",
              "</svg>\n",
              "  </button>\n",
              "\n",
              "<style>\n",
              "  .colab-df-quickchart {\n",
              "      --bg-color: #E8F0FE;\n",
              "      --fill-color: #1967D2;\n",
              "      --hover-bg-color: #E2EBFA;\n",
              "      --hover-fill-color: #174EA6;\n",
              "      --disabled-fill-color: #AAA;\n",
              "      --disabled-bg-color: #DDD;\n",
              "  }\n",
              "\n",
              "  [theme=dark] .colab-df-quickchart {\n",
              "      --bg-color: #3B4455;\n",
              "      --fill-color: #D2E3FC;\n",
              "      --hover-bg-color: #434B5C;\n",
              "      --hover-fill-color: #FFFFFF;\n",
              "      --disabled-bg-color: #3B4455;\n",
              "      --disabled-fill-color: #666;\n",
              "  }\n",
              "\n",
              "  .colab-df-quickchart {\n",
              "    background-color: var(--bg-color);\n",
              "    border: none;\n",
              "    border-radius: 50%;\n",
              "    cursor: pointer;\n",
              "    display: none;\n",
              "    fill: var(--fill-color);\n",
              "    height: 32px;\n",
              "    padding: 0;\n",
              "    width: 32px;\n",
              "  }\n",
              "\n",
              "  .colab-df-quickchart:hover {\n",
              "    background-color: var(--hover-bg-color);\n",
              "    box-shadow: 0 1px 2px rgba(60, 64, 67, 0.3), 0 1px 3px 1px rgba(60, 64, 67, 0.15);\n",
              "    fill: var(--button-hover-fill-color);\n",
              "  }\n",
              "\n",
              "  .colab-df-quickchart-complete:disabled,\n",
              "  .colab-df-quickchart-complete:disabled:hover {\n",
              "    background-color: var(--disabled-bg-color);\n",
              "    fill: var(--disabled-fill-color);\n",
              "    box-shadow: none;\n",
              "  }\n",
              "\n",
              "  .colab-df-spinner {\n",
              "    border: 2px solid var(--fill-color);\n",
              "    border-color: transparent;\n",
              "    border-bottom-color: var(--fill-color);\n",
              "    animation:\n",
              "      spin 1s steps(1) infinite;\n",
              "  }\n",
              "\n",
              "  @keyframes spin {\n",
              "    0% {\n",
              "      border-color: transparent;\n",
              "      border-bottom-color: var(--fill-color);\n",
              "      border-left-color: var(--fill-color);\n",
              "    }\n",
              "    20% {\n",
              "      border-color: transparent;\n",
              "      border-left-color: var(--fill-color);\n",
              "      border-top-color: var(--fill-color);\n",
              "    }\n",
              "    30% {\n",
              "      border-color: transparent;\n",
              "      border-left-color: var(--fill-color);\n",
              "      border-top-color: var(--fill-color);\n",
              "      border-right-color: var(--fill-color);\n",
              "    }\n",
              "    40% {\n",
              "      border-color: transparent;\n",
              "      border-right-color: var(--fill-color);\n",
              "      border-top-color: var(--fill-color);\n",
              "    }\n",
              "    60% {\n",
              "      border-color: transparent;\n",
              "      border-right-color: var(--fill-color);\n",
              "    }\n",
              "    80% {\n",
              "      border-color: transparent;\n",
              "      border-right-color: var(--fill-color);\n",
              "      border-bottom-color: var(--fill-color);\n",
              "    }\n",
              "    90% {\n",
              "      border-color: transparent;\n",
              "      border-bottom-color: var(--fill-color);\n",
              "    }\n",
              "  }\n",
              "</style>\n",
              "\n",
              "  <script>\n",
              "    async function quickchart(key) {\n",
              "      const quickchartButtonEl =\n",
              "        document.querySelector('#' + key + ' button');\n",
              "      quickchartButtonEl.disabled = true;  // To prevent multiple clicks.\n",
              "      quickchartButtonEl.classList.add('colab-df-spinner');\n",
              "      try {\n",
              "        const charts = await google.colab.kernel.invokeFunction(\n",
              "            'suggestCharts', [key], {});\n",
              "      } catch (error) {\n",
              "        console.error('Error during call to suggestCharts:', error);\n",
              "      }\n",
              "      quickchartButtonEl.classList.remove('colab-df-spinner');\n",
              "      quickchartButtonEl.classList.add('colab-df-quickchart-complete');\n",
              "    }\n",
              "    (() => {\n",
              "      let quickchartButtonEl =\n",
              "        document.querySelector('#df-cf052e40-eb9d-4ff3-9888-ea79ca4663c0 button');\n",
              "      quickchartButtonEl.style.display =\n",
              "        google.colab.kernel.accessAllowed ? 'block' : 'none';\n",
              "    })();\n",
              "  </script>\n",
              "</div>\n",
              "    </div>\n",
              "  </div>\n"
            ]
          },
          "metadata": {},
          "execution_count": 239
        }
      ]
    },
    {
      "cell_type": "code",
      "source": [
        "data2.drop(columns=['c_charge_degree'],inplace=True)"
      ],
      "metadata": {
        "id": "yV4e2Do43_0G"
      },
      "execution_count": 246,
      "outputs": []
    },
    {
      "cell_type": "markdown",
      "source": [
        "**Final Data Preprocessing**"
      ],
      "metadata": {
        "id": "OIt1jZI9xakI"
      }
    },
    {
      "cell_type": "code",
      "source": [
        "data2.head()"
      ],
      "metadata": {
        "colab": {
          "base_uri": "https://localhost:8080/",
          "height": 261
        },
        "id": "OuH-lEoFxerF",
        "outputId": "8b8013ed-2511-4e9d-aff4-c32b75a1a1a3"
      },
      "execution_count": 247,
      "outputs": [
        {
          "output_type": "execute_result",
          "data": {
            "text/plain": [
              "   sex  age       age_cat  race  decile_score  n_punished  act(accusation)  \\\n",
              "0    1   69             3     4             1           0               20   \n",
              "1    1   69             3     4             1           0               20   \n",
              "3    1   34             2     1             3           0              200   \n",
              "4    1   24  Less than 25     1             4           4              369   \n",
              "5    1   24  Less than 25     1             4           4              369   \n",
              "\n",
              "   decile_score_min  risk_score  m_decile_score  m_risk_score  \\\n",
              "0                 1           1               1             1   \n",
              "1                 1           1               1             1   \n",
              "3                 3           1               1             1   \n",
              "4                 4           1               3             1   \n",
              "5                 4           1               3             1   \n",
              "\n",
              "   juv_fel_seriousness  is_recid  is_violent_recid  \n",
              "0                    0         0                 0  \n",
              "1                    0         0                 0  \n",
              "3                    0         1                 1  \n",
              "4                    0         1                 0  \n",
              "5                    0         1                 0  "
            ],
            "text/html": [
              "\n",
              "  <div id=\"df-d916d989-3794-4dec-8d9f-01309af33c4c\" class=\"colab-df-container\">\n",
              "    <div>\n",
              "<style scoped>\n",
              "    .dataframe tbody tr th:only-of-type {\n",
              "        vertical-align: middle;\n",
              "    }\n",
              "\n",
              "    .dataframe tbody tr th {\n",
              "        vertical-align: top;\n",
              "    }\n",
              "\n",
              "    .dataframe thead th {\n",
              "        text-align: right;\n",
              "    }\n",
              "</style>\n",
              "<table border=\"1\" class=\"dataframe\">\n",
              "  <thead>\n",
              "    <tr style=\"text-align: right;\">\n",
              "      <th></th>\n",
              "      <th>sex</th>\n",
              "      <th>age</th>\n",
              "      <th>age_cat</th>\n",
              "      <th>race</th>\n",
              "      <th>decile_score</th>\n",
              "      <th>n_punished</th>\n",
              "      <th>act(accusation)</th>\n",
              "      <th>decile_score_min</th>\n",
              "      <th>risk_score</th>\n",
              "      <th>m_decile_score</th>\n",
              "      <th>m_risk_score</th>\n",
              "      <th>juv_fel_seriousness</th>\n",
              "      <th>is_recid</th>\n",
              "      <th>is_violent_recid</th>\n",
              "    </tr>\n",
              "  </thead>\n",
              "  <tbody>\n",
              "    <tr>\n",
              "      <th>0</th>\n",
              "      <td>1</td>\n",
              "      <td>69</td>\n",
              "      <td>3</td>\n",
              "      <td>4</td>\n",
              "      <td>1</td>\n",
              "      <td>0</td>\n",
              "      <td>20</td>\n",
              "      <td>1</td>\n",
              "      <td>1</td>\n",
              "      <td>1</td>\n",
              "      <td>1</td>\n",
              "      <td>0</td>\n",
              "      <td>0</td>\n",
              "      <td>0</td>\n",
              "    </tr>\n",
              "    <tr>\n",
              "      <th>1</th>\n",
              "      <td>1</td>\n",
              "      <td>69</td>\n",
              "      <td>3</td>\n",
              "      <td>4</td>\n",
              "      <td>1</td>\n",
              "      <td>0</td>\n",
              "      <td>20</td>\n",
              "      <td>1</td>\n",
              "      <td>1</td>\n",
              "      <td>1</td>\n",
              "      <td>1</td>\n",
              "      <td>0</td>\n",
              "      <td>0</td>\n",
              "      <td>0</td>\n",
              "    </tr>\n",
              "    <tr>\n",
              "      <th>3</th>\n",
              "      <td>1</td>\n",
              "      <td>34</td>\n",
              "      <td>2</td>\n",
              "      <td>1</td>\n",
              "      <td>3</td>\n",
              "      <td>0</td>\n",
              "      <td>200</td>\n",
              "      <td>3</td>\n",
              "      <td>1</td>\n",
              "      <td>1</td>\n",
              "      <td>1</td>\n",
              "      <td>0</td>\n",
              "      <td>1</td>\n",
              "      <td>1</td>\n",
              "    </tr>\n",
              "    <tr>\n",
              "      <th>4</th>\n",
              "      <td>1</td>\n",
              "      <td>24</td>\n",
              "      <td>Less than 25</td>\n",
              "      <td>1</td>\n",
              "      <td>4</td>\n",
              "      <td>4</td>\n",
              "      <td>369</td>\n",
              "      <td>4</td>\n",
              "      <td>1</td>\n",
              "      <td>3</td>\n",
              "      <td>1</td>\n",
              "      <td>0</td>\n",
              "      <td>1</td>\n",
              "      <td>0</td>\n",
              "    </tr>\n",
              "    <tr>\n",
              "      <th>5</th>\n",
              "      <td>1</td>\n",
              "      <td>24</td>\n",
              "      <td>Less than 25</td>\n",
              "      <td>1</td>\n",
              "      <td>4</td>\n",
              "      <td>4</td>\n",
              "      <td>369</td>\n",
              "      <td>4</td>\n",
              "      <td>1</td>\n",
              "      <td>3</td>\n",
              "      <td>1</td>\n",
              "      <td>0</td>\n",
              "      <td>1</td>\n",
              "      <td>0</td>\n",
              "    </tr>\n",
              "  </tbody>\n",
              "</table>\n",
              "</div>\n",
              "    <div class=\"colab-df-buttons\">\n",
              "\n",
              "  <div class=\"colab-df-container\">\n",
              "    <button class=\"colab-df-convert\" onclick=\"convertToInteractive('df-d916d989-3794-4dec-8d9f-01309af33c4c')\"\n",
              "            title=\"Convert this dataframe to an interactive table.\"\n",
              "            style=\"display:none;\">\n",
              "\n",
              "  <svg xmlns=\"http://www.w3.org/2000/svg\" height=\"24px\" viewBox=\"0 -960 960 960\">\n",
              "    <path d=\"M120-120v-720h720v720H120Zm60-500h600v-160H180v160Zm220 220h160v-160H400v160Zm0 220h160v-160H400v160ZM180-400h160v-160H180v160Zm440 0h160v-160H620v160ZM180-180h160v-160H180v160Zm440 0h160v-160H620v160Z\"/>\n",
              "  </svg>\n",
              "    </button>\n",
              "\n",
              "  <style>\n",
              "    .colab-df-container {\n",
              "      display:flex;\n",
              "      gap: 12px;\n",
              "    }\n",
              "\n",
              "    .colab-df-convert {\n",
              "      background-color: #E8F0FE;\n",
              "      border: none;\n",
              "      border-radius: 50%;\n",
              "      cursor: pointer;\n",
              "      display: none;\n",
              "      fill: #1967D2;\n",
              "      height: 32px;\n",
              "      padding: 0 0 0 0;\n",
              "      width: 32px;\n",
              "    }\n",
              "\n",
              "    .colab-df-convert:hover {\n",
              "      background-color: #E2EBFA;\n",
              "      box-shadow: 0px 1px 2px rgba(60, 64, 67, 0.3), 0px 1px 3px 1px rgba(60, 64, 67, 0.15);\n",
              "      fill: #174EA6;\n",
              "    }\n",
              "\n",
              "    .colab-df-buttons div {\n",
              "      margin-bottom: 4px;\n",
              "    }\n",
              "\n",
              "    [theme=dark] .colab-df-convert {\n",
              "      background-color: #3B4455;\n",
              "      fill: #D2E3FC;\n",
              "    }\n",
              "\n",
              "    [theme=dark] .colab-df-convert:hover {\n",
              "      background-color: #434B5C;\n",
              "      box-shadow: 0px 1px 3px 1px rgba(0, 0, 0, 0.15);\n",
              "      filter: drop-shadow(0px 1px 2px rgba(0, 0, 0, 0.3));\n",
              "      fill: #FFFFFF;\n",
              "    }\n",
              "  </style>\n",
              "\n",
              "    <script>\n",
              "      const buttonEl =\n",
              "        document.querySelector('#df-d916d989-3794-4dec-8d9f-01309af33c4c button.colab-df-convert');\n",
              "      buttonEl.style.display =\n",
              "        google.colab.kernel.accessAllowed ? 'block' : 'none';\n",
              "\n",
              "      async function convertToInteractive(key) {\n",
              "        const element = document.querySelector('#df-d916d989-3794-4dec-8d9f-01309af33c4c');\n",
              "        const dataTable =\n",
              "          await google.colab.kernel.invokeFunction('convertToInteractive',\n",
              "                                                    [key], {});\n",
              "        if (!dataTable) return;\n",
              "\n",
              "        const docLinkHtml = 'Like what you see? Visit the ' +\n",
              "          '<a target=\"_blank\" href=https://colab.research.google.com/notebooks/data_table.ipynb>data table notebook</a>'\n",
              "          + ' to learn more about interactive tables.';\n",
              "        element.innerHTML = '';\n",
              "        dataTable['output_type'] = 'display_data';\n",
              "        await google.colab.output.renderOutput(dataTable, element);\n",
              "        const docLink = document.createElement('div');\n",
              "        docLink.innerHTML = docLinkHtml;\n",
              "        element.appendChild(docLink);\n",
              "      }\n",
              "    </script>\n",
              "  </div>\n",
              "\n",
              "\n",
              "<div id=\"df-0a7adcb5-dbad-4454-805f-7e35aa946bcb\">\n",
              "  <button class=\"colab-df-quickchart\" onclick=\"quickchart('df-0a7adcb5-dbad-4454-805f-7e35aa946bcb')\"\n",
              "            title=\"Suggest charts.\"\n",
              "            style=\"display:none;\">\n",
              "\n",
              "<svg xmlns=\"http://www.w3.org/2000/svg\" height=\"24px\"viewBox=\"0 0 24 24\"\n",
              "     width=\"24px\">\n",
              "    <g>\n",
              "        <path d=\"M19 3H5c-1.1 0-2 .9-2 2v14c0 1.1.9 2 2 2h14c1.1 0 2-.9 2-2V5c0-1.1-.9-2-2-2zM9 17H7v-7h2v7zm4 0h-2V7h2v10zm4 0h-2v-4h2v4z\"/>\n",
              "    </g>\n",
              "</svg>\n",
              "  </button>\n",
              "\n",
              "<style>\n",
              "  .colab-df-quickchart {\n",
              "      --bg-color: #E8F0FE;\n",
              "      --fill-color: #1967D2;\n",
              "      --hover-bg-color: #E2EBFA;\n",
              "      --hover-fill-color: #174EA6;\n",
              "      --disabled-fill-color: #AAA;\n",
              "      --disabled-bg-color: #DDD;\n",
              "  }\n",
              "\n",
              "  [theme=dark] .colab-df-quickchart {\n",
              "      --bg-color: #3B4455;\n",
              "      --fill-color: #D2E3FC;\n",
              "      --hover-bg-color: #434B5C;\n",
              "      --hover-fill-color: #FFFFFF;\n",
              "      --disabled-bg-color: #3B4455;\n",
              "      --disabled-fill-color: #666;\n",
              "  }\n",
              "\n",
              "  .colab-df-quickchart {\n",
              "    background-color: var(--bg-color);\n",
              "    border: none;\n",
              "    border-radius: 50%;\n",
              "    cursor: pointer;\n",
              "    display: none;\n",
              "    fill: var(--fill-color);\n",
              "    height: 32px;\n",
              "    padding: 0;\n",
              "    width: 32px;\n",
              "  }\n",
              "\n",
              "  .colab-df-quickchart:hover {\n",
              "    background-color: var(--hover-bg-color);\n",
              "    box-shadow: 0 1px 2px rgba(60, 64, 67, 0.3), 0 1px 3px 1px rgba(60, 64, 67, 0.15);\n",
              "    fill: var(--button-hover-fill-color);\n",
              "  }\n",
              "\n",
              "  .colab-df-quickchart-complete:disabled,\n",
              "  .colab-df-quickchart-complete:disabled:hover {\n",
              "    background-color: var(--disabled-bg-color);\n",
              "    fill: var(--disabled-fill-color);\n",
              "    box-shadow: none;\n",
              "  }\n",
              "\n",
              "  .colab-df-spinner {\n",
              "    border: 2px solid var(--fill-color);\n",
              "    border-color: transparent;\n",
              "    border-bottom-color: var(--fill-color);\n",
              "    animation:\n",
              "      spin 1s steps(1) infinite;\n",
              "  }\n",
              "\n",
              "  @keyframes spin {\n",
              "    0% {\n",
              "      border-color: transparent;\n",
              "      border-bottom-color: var(--fill-color);\n",
              "      border-left-color: var(--fill-color);\n",
              "    }\n",
              "    20% {\n",
              "      border-color: transparent;\n",
              "      border-left-color: var(--fill-color);\n",
              "      border-top-color: var(--fill-color);\n",
              "    }\n",
              "    30% {\n",
              "      border-color: transparent;\n",
              "      border-left-color: var(--fill-color);\n",
              "      border-top-color: var(--fill-color);\n",
              "      border-right-color: var(--fill-color);\n",
              "    }\n",
              "    40% {\n",
              "      border-color: transparent;\n",
              "      border-right-color: var(--fill-color);\n",
              "      border-top-color: var(--fill-color);\n",
              "    }\n",
              "    60% {\n",
              "      border-color: transparent;\n",
              "      border-right-color: var(--fill-color);\n",
              "    }\n",
              "    80% {\n",
              "      border-color: transparent;\n",
              "      border-right-color: var(--fill-color);\n",
              "      border-bottom-color: var(--fill-color);\n",
              "    }\n",
              "    90% {\n",
              "      border-color: transparent;\n",
              "      border-bottom-color: var(--fill-color);\n",
              "    }\n",
              "  }\n",
              "</style>\n",
              "\n",
              "  <script>\n",
              "    async function quickchart(key) {\n",
              "      const quickchartButtonEl =\n",
              "        document.querySelector('#' + key + ' button');\n",
              "      quickchartButtonEl.disabled = true;  // To prevent multiple clicks.\n",
              "      quickchartButtonEl.classList.add('colab-df-spinner');\n",
              "      try {\n",
              "        const charts = await google.colab.kernel.invokeFunction(\n",
              "            'suggestCharts', [key], {});\n",
              "      } catch (error) {\n",
              "        console.error('Error during call to suggestCharts:', error);\n",
              "      }\n",
              "      quickchartButtonEl.classList.remove('colab-df-spinner');\n",
              "      quickchartButtonEl.classList.add('colab-df-quickchart-complete');\n",
              "    }\n",
              "    (() => {\n",
              "      let quickchartButtonEl =\n",
              "        document.querySelector('#df-0a7adcb5-dbad-4454-805f-7e35aa946bcb button');\n",
              "      quickchartButtonEl.style.display =\n",
              "        google.colab.kernel.accessAllowed ? 'block' : 'none';\n",
              "    })();\n",
              "  </script>\n",
              "</div>\n",
              "    </div>\n",
              "  </div>\n"
            ]
          },
          "metadata": {},
          "execution_count": 247
        }
      ]
    },
    {
      "cell_type": "code",
      "source": [
        "data2['sex'] = data2['sex'].replace({'Male': 1, 'Female': 0})"
      ],
      "metadata": {
        "id": "slExbaatxetr"
      },
      "execution_count": 248,
      "outputs": []
    },
    {
      "cell_type": "code",
      "source": [
        "data2['age_cat'] = data2['age_cat'].replace({'Less than 25': 1,'25 - 45': 2,'Greater than 45': 3})"
      ],
      "metadata": {
        "id": "8N4oQZYTxexF"
      },
      "execution_count": 249,
      "outputs": []
    },
    {
      "cell_type": "code",
      "source": [
        "data2['race'] = data2['race'].replace({'African-American':1,'Caucasian':2,'Hispanic':3,'Other':4,'Asian':5,'Native American':6})"
      ],
      "metadata": {
        "id": "DoXME-xGzlie"
      },
      "execution_count": 250,
      "outputs": []
    },
    {
      "cell_type": "code",
      "source": [
        "from sklearn.preprocessing import LabelEncoder\n",
        "\n",
        "# Assuming your DataFrame is named 'data2'\n",
        "label_encoder = LabelEncoder()\n",
        "data2[\"act(accusation)\"] = label_encoder.fit_transform(data2[\"act(accusation)\"])\n",
        "data2[\"risk_score\"] = label_encoder.fit_transform(data2[\"risk_score\"])\n",
        "data2[\"m_risk_score\"] = label_encoder.fit_transform(data2[\"m_risk_score\"])"
      ],
      "metadata": {
        "id": "6i6a3pjNzlll"
      },
      "execution_count": 251,
      "outputs": []
    },
    {
      "cell_type": "code",
      "source": [
        "data2.info()"
      ],
      "metadata": {
        "colab": {
          "base_uri": "https://localhost:8080/"
        },
        "id": "07PjozcSzloj",
        "outputId": "774222e2-d647-42d0-ea1f-80623cabba9b"
      },
      "execution_count": 252,
      "outputs": [
        {
          "output_type": "stream",
          "name": "stdout",
          "text": [
            "<class 'pandas.core.frame.DataFrame'>\n",
            "Int64Index: 17418 entries, 0 to 18315\n",
            "Data columns (total 14 columns):\n",
            " #   Column               Non-Null Count  Dtype\n",
            "---  ------               --------------  -----\n",
            " 0   sex                  17418 non-null  int64\n",
            " 1   age                  17418 non-null  int64\n",
            " 2   age_cat              17418 non-null  int64\n",
            " 3   race                 17418 non-null  int64\n",
            " 4   decile_score         17418 non-null  int64\n",
            " 5   n_punished           17418 non-null  int64\n",
            " 6   act(accusation)      17418 non-null  int64\n",
            " 7   decile_score_min     17418 non-null  int64\n",
            " 8   risk_score           17418 non-null  int64\n",
            " 9   m_decile_score       17418 non-null  int64\n",
            " 10  m_risk_score         17418 non-null  int64\n",
            " 11  juv_fel_seriousness  17418 non-null  int64\n",
            " 12  is_recid             17418 non-null  int64\n",
            " 13  is_violent_recid     17418 non-null  int64\n",
            "dtypes: int64(14)\n",
            "memory usage: 2.0 MB\n"
          ]
        }
      ]
    },
    {
      "cell_type": "markdown",
      "source": [
        "**Model Implementation**"
      ],
      "metadata": {
        "id": "W4q9FIB1hbO3"
      }
    },
    {
      "cell_type": "markdown",
      "source": [
        "**K Nearest Neighbors**"
      ],
      "metadata": {
        "id": "ZonAqyysBBx7"
      }
    },
    {
      "cell_type": "code",
      "source": [
        "from sklearn.preprocessing import LabelEncoder, StandardScaler\n",
        "\n",
        "# Encode categorical variables\n",
        "label_encoder = LabelEncoder()\n",
        "data2['sex'] = label_encoder.fit_transform(data2['sex'])\n",
        "data2['age_cat'] = label_encoder.fit_transform(data2['age_cat'])\n",
        "data2['race'] = label_encoder.fit_transform(data2['race'])\n",
        "data2['act(accusation)'] = label_encoder.fit_transform(data2['act(accusation)'])\n",
        "\n",
        "# Perform feature scaling on numeric features\n",
        "# scaler = StandardScaler()\n",
        "# numeric_features = ['n_punished', 'juv_fel_seriousness', 'decile_score', 'decile_score_min']\n",
        "# data2[numeric_features] = scaler.fit_transform(data2[numeric_features])\n",
        "\n",
        "# Split the data into train and test sets\n",
        "X = data2.drop(['is_recid', 'is_violent_recid'], axis=1)\n",
        "y = data2[['is_recid', 'is_violent_recid']]\n",
        "X_train, X_test, y_train, y_test = train_test_split(X, y, test_size=0.25, random_state=42)\n",
        "from sklearn.neighbors import KNeighborsClassifier\n",
        "from sklearn.metrics import accuracy_score\n",
        "\n",
        "k = 73\n",
        "knn = KNeighborsClassifier(n_neighbors=k)\n",
        "knn.fit(X_train, y_train)\n",
        "y_pred = knn.predict(X_test)\n",
        "accuracy = accuracy_score(y_test, y_pred)\n",
        "print(f'Accuracy: {accuracy:.2f}')"
      ],
      "metadata": {
        "colab": {
          "base_uri": "https://localhost:8080/"
        },
        "id": "6_7o6LQCVBC5",
        "outputId": "44206d3c-8f16-44bb-c0e4-ee43c8c88c8f"
      },
      "execution_count": 253,
      "outputs": [
        {
          "output_type": "stream",
          "name": "stdout",
          "text": [
            "Accuracy: 0.61\n"
          ]
        }
      ]
    },
    {
      "cell_type": "markdown",
      "source": [
        "**Decision Tree**"
      ],
      "metadata": {
        "id": "DGFcMfhXBHsr"
      }
    },
    {
      "cell_type": "code",
      "source": [
        "#model implementaion of decision tree\n",
        "from sklearn.tree import DecisionTreeClassifier\n",
        "decision_tree = DecisionTreeClassifier()\n",
        "decision_tree.fit(X_train, y_train)\n",
        "y_pred = decision_tree.predict(X_test)\n",
        "accuracy = accuracy_score(y_test, y_pred)\n",
        "print(f'Accuracy: {accuracy:.2f}')"
      ],
      "metadata": {
        "colab": {
          "base_uri": "https://localhost:8080/"
        },
        "id": "2_9vUYNMAmA3",
        "outputId": "a713fbbe-e16b-496a-bc3e-ca34a3d099cd"
      },
      "execution_count": 259,
      "outputs": [
        {
          "output_type": "stream",
          "name": "stdout",
          "text": [
            "Accuracy: 0.82\n"
          ]
        }
      ]
    },
    {
      "cell_type": "code",
      "source": [],
      "metadata": {
        "id": "ULKHd4LnAo_N"
      },
      "execution_count": null,
      "outputs": []
    }
  ]
}